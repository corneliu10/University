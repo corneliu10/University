{
 "cells": [
  {
   "cell_type": "markdown",
   "metadata": {},
   "source": [
    "# Laborator 6"
   ]
  },
  {
   "cell_type": "code",
   "execution_count": 1,
   "metadata": {},
   "outputs": [],
   "source": [
    "import numpy as np\n",
    "import matplotlib.pyplot as plt\n",
    "import csv\n",
    "import re\n",
    "from sklearn import preprocessing\n",
    "from sklearn.kernel_ridge import KernelRidge\n",
    "from sklearn.metrics import mean_squared_error, mean_absolute_error"
   ]
  },
  {
   "cell_type": "code",
   "execution_count": 2,
   "metadata": {},
   "outputs": [],
   "source": [
    "def read_data(file_path):\n",
    "    data = []\n",
    "    scores = []\n",
    "\n",
    "    with open(file_path, mode='r',encoding=\"ISO-8859-1\") as csv_file:\n",
    "        csv_reader = csv.DictReader(csv_file)\n",
    "        for row in csv_reader:\n",
    "            data.append(re.sub(\"[-.,;:!?\\\"\\'\\/()_*=`]\", \"\", row[\"essay\"].lower()).split())\n",
    "            scores.append(int(row[\"score\"]))\n",
    "    return data, scores"
   ]
  },
  {
   "cell_type": "code",
   "execution_count": 4,
   "metadata": {},
   "outputs": [
    {
     "name": "stdout",
     "output_type": "stream",
     "text": [
      "Train data length: texts: 1426, scores: 1426\n",
      "Test data length: texts: 357, scores: 357\n"
     ]
    }
   ],
   "source": [
    "dirPath = \"C:\\\\Users\\\\corneliu.dumitru\\\\Desktop\\\\University\\\\Anul II\\\\IA\\\\Sem II\\\\Lab6\\\\\"\n",
    "\n",
    "train_data, train_scores = read_data(dirPath + \"Data/train_data.csv\")\n",
    "test_data, test_scores = read_data(dirPath + \"Data/test_data.csv\")\n",
    "\n",
    "print(\"Train data length: texts: %d, scores: %d\" % (len(train_data), len(train_scores)))\n",
    "print(\"Test data length: texts: %d, scores: %d\" % (len(test_data), len(test_scores)))"
   ]
  },
  {
   "cell_type": "code",
   "execution_count": 32,
   "metadata": {},
   "outputs": [
    {
     "name": "stdout",
     "output_type": "stream",
     "text": [
      "[ 0.          0.52631579  1.05263158  1.57894737  2.10526316  2.63157895\n",
      "  3.15789474  3.68421053  4.21052632  4.73684211  5.26315789  5.78947368\n",
      "  6.31578947  6.84210526  7.36842105  7.89473684  8.42105263  8.94736842\n",
      "  9.47368421 10.        ]\n"
     ]
    },
    {
     "data": {
      "image/png": "[encoded data removed]",
      "text/plain": [
       "<Figure size 432x288 with 1 Axes>"
      ]
     },
     "metadata": {
      "needs_background": "light"
     },
     "output_type": "display_data"
    }
   ],
   "source": [
    "#toy example for KRR\n",
    "x = np.linspace(0,10,20)\n",
    "print(x)\n",
    "y = 2*x + 5*np.random.randn(len(x))\n",
    "\n",
    "modelKRR = KernelRidge(kernel = \"rbf\", alpha = 0)\n",
    "modelKRR.fit(x.reshape(-1,1), y.reshape(-1,1))\n",
    "y_predicted = modelKRR.predict(x.reshape(-1,1))\n",
    "plt.plot(x,y,'or')\n",
    "plt.plot(x,y_predicted,'xb')\n",
    "plt.show()"
   ]
  },
  {
   "cell_type": "code",
   "execution_count": 31,
   "metadata": {},
   "outputs": [
    {
     "data": {
      "image/png": "[encoded data removed]",
      "text/plain": [
       "<Figure size 432x288 with 1 Axes>"
      ]
     },
     "metadata": {
      "needs_background": "light"
     },
     "output_type": "display_data"
    }
   ],
   "source": [
    "x_test = np.linspace(-10, 20, 100)\n",
    "y_predicted = modelKRR.predict(x_test.reshape(-1, 1))\n",
    "plt.plot(x_test, y_predicted, 'sg')\n",
    "plt.show()"
   ]
  },
  {
   "cell_type": "code",
   "execution_count": 35,
   "metadata": {},
   "outputs": [
    {
     "name": "stdout",
     "output_type": "stream",
     "text": [
      "337\n"
     ]
    }
   ],
   "source": [
    "print(len(train_data[0]))"
   ]
  },
  {
   "cell_type": "code",
   "execution_count": 52,
   "metadata": {},
   "outputs": [],
   "source": [
    "L = [['azi', 'e', 'luni'],\n",
    "     ['maine', 'e', 'marti', 'grupa', '235'],\n",
    "     ['grupa', '235']]"
   ]
  },
  {
   "cell_type": "code",
   "execution_count": 53,
   "metadata": {},
   "outputs": [
    {
     "name": "stdout",
     "output_type": "stream",
     "text": [
      "{'azi': 0, 'e': 1, 'luni': 2, 'maine': 3, 'marti': 4, 'grupa': 5, '235': 6}\n"
     ]
    }
   ],
   "source": [
    "dictr = {}\n",
    "nr_cuvinte = 0\n",
    "\n",
    "for lista in L:\n",
    "    for cuv in lista:\n",
    "        if cuv not in dictr.keys():\n",
    "            dictr[cuv] = len(dictr);\n",
    "            nr_cuvinte += 1\n",
    "\n",
    "print(dictr)"
   ]
  },
  {
   "cell_type": "code",
   "execution_count": 54,
   "metadata": {},
   "outputs": [
    {
     "name": "stdout",
     "output_type": "stream",
     "text": [
      "[[1. 1. 1. 0. 0. 0. 0.]\n",
      " [0. 1. 0. 1. 1. 1. 1.]\n",
      " [0. 0. 0. 0. 0. 1. 1.]]\n"
     ]
    }
   ],
   "source": [
    "features = np.zeros((len(L), len(dictr)))\n",
    "\n",
    "for idx_lista, lista in enumerate(L):\n",
    "    for cuv in lista:\n",
    "        if cuv in dictr.keys():\n",
    "            id = dictr[cuv]\n",
    "            features[idx_lista, id] += 1\n",
    "\n",
    "print(features)"
   ]
  },
  {
   "cell_type": "code",
   "execution_count": 56,
   "metadata": {},
   "outputs": [
    {
     "name": "stdout",
     "output_type": "stream",
     "text": [
      "[[0.57735027 0.57735027 0.57735027 0.         0.         0.\n",
      "  0.        ]\n",
      " [0.         0.4472136  0.         0.4472136  0.4472136  0.4472136\n",
      "  0.4472136 ]\n",
      " [0.         0.         0.         0.         0.         0.70710678\n",
      "  0.70710678]]\n"
     ]
    }
   ],
   "source": [
    "features_norm = preprocessing.normalize(features, norm='l2', axis=1)\n",
    "print(features_norm)"
   ]
  },
  {
   "cell_type": "code",
   "execution_count": 63,
   "metadata": {},
   "outputs": [],
   "source": [
    "class Bag_Of_Words:\n",
    "    \n",
    "    def __init__(self):\n",
    "        self.dictionary = {}\n",
    "        self.nr_words = 0\n",
    "    \n",
    "    def build_vocabulary(self, data):\n",
    "        for essay in data:\n",
    "            for word in essay:\n",
    "                if word not in self.dictionary.keys():\n",
    "                    self.dictionary[word] = self.nr_words;\n",
    "                    self.nr_words += 1\n",
    "    \n",
    "    def get_features(self, data):\n",
    "        features = np.zeros((len(data), self.nr_words))\n",
    "        \n",
    "        for idx_ess, essay in enumerate(data):\n",
    "            for word in essay:\n",
    "                if word in self.dictionary.keys():\n",
    "                    id = self.dictionary[word]\n",
    "                    features[idx_ess, id] += 1\n",
    "        \n",
    "        \n",
    "        return features"
   ]
  },
  {
   "cell_type": "code",
   "execution_count": 69,
   "metadata": {},
   "outputs": [
    {
     "name": "stdout",
     "output_type": "stream",
     "text": [
      "[[1. 1. 1. 0. 0. 0. 0.]\n",
      " [0. 1. 0. 1. 1. 1. 1.]\n",
      " [0. 0. 0. 0. 0. 1. 1.]]\n",
      "{'azi': 0, 'e': 1, 'luni': 2, 'maine': 3, 'marti': 4, 'grupa': 5, '235': 6}\n"
     ]
    }
   ],
   "source": [
    "D = Bag_Of_Words()\n",
    "D.build_vocabulary(L)\n",
    "print(D.get_features(L))\n",
    "print(D.dictionary)"
   ]
  },
  {
   "cell_type": "code",
   "execution_count": 73,
   "metadata": {},
   "outputs": [],
   "source": [
    "D = Bag_Of_Words()\n",
    "D.build_vocabulary(train_data)\n",
    "train_features = D.get_features(train_data)\n",
    "train_features_norm = preprocessing.normalize(train_features, norm='l2', axis=1)\n",
    "\n",
    "test_features = D.get_features(test_data)\n",
    "test_features_norm = preprocessing.normalize(test_features, norm='l2', axis=1)\n"
   ]
  },
  {
   "cell_type": "code",
   "execution_count": 75,
   "metadata": {},
   "outputs": [
    {
     "data": {
      "text/plain": [
       "KernelRidge(alpha=5.623413251903491e-05, coef0=1, degree=3, gamma=None,\n",
       "      kernel='rbf', kernel_params=None)"
      ]
     },
     "execution_count": 75,
     "metadata": {},
     "output_type": "execute_result"
    }
   ],
   "source": [
    "model = KernelRidge(kernel='rbf', alpha=pow(10, -4.25))\n",
    "model.fit(train_features_norm, train_scores)"
   ]
  },
  {
   "cell_type": "code",
   "execution_count": 78,
   "metadata": {},
   "outputs": [
    {
     "name": "stdout",
     "output_type": "stream",
     "text": [
      "[8, 9, 7, 10, 8, 8, 10, 10, 9, 9]\n",
      "[ 8.19302025  8.98339848  8.61025416  9.32138345  8.9756584   8.61286047\n",
      " 10.34100318  9.64846814  9.38884617  8.99161024]\n"
     ]
    }
   ],
   "source": [
    "train_scores_predicted = model.predict(train_features_norm)\n",
    "test_scores_predicted = model.predict(test_features_norm)\n",
    "\n",
    "print(train_scores[:10])\n",
    "print(train_scores_predicted[:10])"
   ]
  },
  {
   "cell_type": "code",
   "execution_count": 81,
   "metadata": {},
   "outputs": [
    {
     "name": "stdout",
     "output_type": "stream",
     "text": [
      "MSE train:  0.6431273762648867\n",
      "MSE test:  1.0807762723662209\n",
      "MAE train:  0.630380498677186\n",
      "MAE test:  0.8324633251553989\n"
     ]
    }
   ],
   "source": [
    "print(\"MSE train: \", mean_squared_error(train_scores, train_scores_predicted)) # 0.643\n",
    "print(\"MSE test: \", mean_squared_error(test_scores, test_scores_predicted)) # 1.080 \n",
    "print(\"MAE train: \", mean_absolute_error(train_scores, train_scores_predicted)) # 0.630\n",
    "print(\"MAE test: \", mean_absolute_error(test_scores, test_scores_predicted)) # 0.832"
   ]
  }
 ],
 "metadata": {
  "kernelspec": {
   "display_name": "Python 3",
   "language": "python",
   "name": "python3"
  },
  "language_info": {
   "codemirror_mode": {
    "name": "ipython",
    "version": 3
   },
   "file_extension": ".py",
   "mimetype": "text/x-python",
   "name": "python",
   "nbconvert_exporter": "python",
   "pygments_lexer": "ipython3",
   "version": "3.7.1"
  }
 },
 "nbformat": 4,
 "nbformat_minor": 2
}
