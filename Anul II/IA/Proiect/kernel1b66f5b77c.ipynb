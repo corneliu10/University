{
 "cells": [
  {
   "cell_type": "code",
   "execution_count": null,
   "metadata": {
    "_cell_guid": "b1076dfc-b9ad-4769-8c92-a6c4dae69d19",
    "_uuid": "8f2839f25d086af736a60e9eeb907d3b93b6e0e5"
   },
   "outputs": [
    {
     "name": "stderr",
     "output_type": "stream",
     "text": [
      "Using TensorFlow backend.\n"
     ]
    }
   ],
   "source": [
    "# This Python 3 environment comes with many helpful analytics libraries installed\n",
    "# It is defined by the kaggle/python docker image: https://github.com/kaggle/docker-python\n",
    "# For example, here's several helpful packages to load in \n",
    "\n",
    "import numpy as np # linear algebra\n",
    "import pandas as pd # data processing, CSV file I/O (e.g. pd.read_csv)\n",
    "from sklearn import preprocessing\n",
    "from sklearn import metrics\n",
    "from sklearn import svm\n",
    "from sklearn.ensemble import RandomForestClassifier\n",
    "from sklearn.ensemble import RandomForestRegressor\n",
    "from sklearn.model_selection import train_test_split\n",
    "from keras.models import Sequential\n",
    "from keras.layers import Dense\n",
    "from keras.layers import Flatten\n",
    "from keras.layers import Dropout\n",
    "from keras.layers import LSTM\n",
    "from keras.layers import TimeDistributed\n",
    "from keras.layers import ConvLSTM2D\n",
    "from keras.utils import to_categorical\n",
    "from matplotlib import pyplot\n",
    "# Input data files are available in the \"../input/\" directory.\n",
    "# For example, running this (by clicking run or pressing Shift+Enter) will list the files in the input directory\n",
    "\n",
    "import os\n",
    "import math\n",
    "print(os.listdir(\"./\"))\n",
    "\n",
    "# Any results you write to the current directory are saved as output."
   ]
  },
  {
   "cell_type": "code",
   "execution_count": null,
   "metadata": {},
   "outputs": [],
   "source": [
    "# constants\n",
    "train_root_path = './train'\n",
    "train_labels_path = './train_labels.csv'\n",
    "test_root_path = './test'\n",
    "\n",
    "N = 135\n",
    "f_s = 100\n",
    "t_n = 1.35\n",
    "T = t_n / N\n",
    "\n",
    "train_samples = 9000\n",
    "test_samples = 5000\n",
    "n_features = 3\n",
    "bucket_size = 145"
   ]
  },
  {
   "cell_type": "code",
   "execution_count": null,
   "metadata": {
    "_cell_guid": "79c7e3d0-c299-4dcb-8224-4455121ee9b0",
    "_uuid": "d629ff2d2480ee46fbb7e2d37f6b5fab8052498a"
   },
   "outputs": [],
   "source": [
    "# load a single file as a numpy array\n",
    "def load_file(filepath):\n",
    "    dataframe = pd.read_csv(filepath, header=None)\n",
    "    return np.resize(dataframe.values, (bucket_size, n_features))\n",
    "\n",
    "# test load_file\n",
    "print(load_file(os.path.join(train_root_path, '16763.csv')).shape)\n",
    "\n",
    "# load a list of files and return as a 3d numpy array\n",
    "def load_group(root_path, limit = None):\n",
    "    loaded = list()\n",
    "    filenames = os.listdir(root_path)\n",
    "    if limit is None: \n",
    "        limit = len(filenames)\n",
    "    for i, name in enumerate(filenames):\n",
    "        if i >= limit: break\n",
    "        data = load_file(os.path.join(root_path, name))\n",
    "        loaded.append(data)\n",
    "    # stack group so that features are the 3rd dimension\n",
    "    loaded = np.stack(loaded, axis=0)\n",
    "    return loaded\n",
    "\n",
    "# test load_group\n",
    "print(load_group(train_root_path, limit=100).shape)\n",
    "\n",
    "# load train labels\n",
    "def load_train_labels(labels_path, train_data_root_path, limit = train_samples):\n",
    "    train_labels = np.zeros(limit)\n",
    "    loaded = pd.read_csv(labels_path)\n",
    "    \n",
    "    for i, filename in enumerate(os.listdir(train_data_root_path)):\n",
    "        if i >= limit: break\n",
    "        file_id = int(filename.split('.')[0], 10)\n",
    "        train_labels[i] = int(loaded[loaded['id'] == file_id]['class'])\n",
    "        \n",
    "    return train_labels.reshape(limit, )\n",
    "\n",
    "# test load_train_labels\n",
    "print(load_train_labels(train_labels_path, train_root_path, limit = 100).shape)\n",
    "\n",
    "# load test ids\n",
    "def load_test_ids(test_root_path):\n",
    "    test_ids = np.zeros(test_samples)\n",
    "    \n",
    "    for i, filename in enumerate(os.listdir(test_root_path)):\n",
    "        file_id = int(filename.split('.')[0], 10)\n",
    "        test_ids[i] = file_id\n",
    "        \n",
    "    return test_ids\n",
    "\n",
    "def normalize_data(train_data, test_data, type=None):\n",
    "    if type == None:\n",
    "        return train_data, test_data\n",
    "    \n",
    "    if type == 'standard':\n",
    "        scaler = preprocessing.StandardScaler()\n",
    "        scaler.fit(train_data)\n",
    "    \n",
    "    if type == 'minmax':\n",
    "        scaler = preprocessing.MinMaxScaler(feature_range=(0, 1)) # (0, 1) default\n",
    "        scaler.fit(train_data)\n",
    "        \n",
    "    if type == 'l1':\n",
    "        train_data_l1 = preprocessing.normalize(train_data, norm='l1', axis=1)\n",
    "        test_data_l1 = preprocessing.normalize(test_data, norm='l1', axis=1)\n",
    "        \n",
    "        return train_data_l1, test_data_l1\n",
    "    \n",
    "    if type == 'l2':\n",
    "        train_data_l2 = preprocessing.normalize(train_data, norm='l2', axis=1)\n",
    "        test_data_l2 = preprocessing.normalize(test_data, norm='l2', axis=1)\n",
    "        \n",
    "        return train_data_l2, test_data_l2\n",
    "    \n",
    "    train_data_scaled = scaler.transform(train_data)\n",
    "    test_data_scaled = scaler.transform(test_data)\n",
    "        \n",
    "    return train_data_scaled, test_data_scaled\n",
    "\n",
    "def svm_classifier(train_data, train_labels, test_data, C, algo):\n",
    "    modelSVM = svm.SVC(C, algo)\n",
    "    modelSVM.fit(train_data, train_labels)\n",
    "    \n",
    "    train_labels_predicted = modelSVM.predict(train_data)\n",
    "    test_labels_predicted = modelSVM.predict(test_data)\n",
    "    \n",
    "    return train_labels_predicted, test_labels_predicted\n",
    "\n",
    "def compute_accuracy(true_labels, predicted_labels):\n",
    "    return (true_labels == predicted_labels).mean()\n",
    "\n",
    "# test load_test_ids\n",
    "print(load_test_ids(test_root_path))"
   ]
  },
  {
   "cell_type": "code",
   "execution_count": 4,
   "metadata": {},
   "outputs": [
    {
     "name": "stdout",
     "output_type": "stream",
     "text": [
      "(9000, 150, 3)\n",
      "(9000,)\n",
      "(5000, 150, 3)\n",
      "(5000,)\n"
     ]
    }
   ],
   "source": [
    "# load data from input\n",
    "X_train = train_data = load_group(train_root_path)\n",
    "Y_train = Y_test = test_labels = train_labels = load_train_labels(train_labels_path, train_root_path) - 1\n",
    "X_test = test_data = load_group(test_root_path)\n",
    "test_ids = load_test_ids(test_root_path)\n",
    "\n",
    "print(train_data.shape)\n",
    "print(train_labels.shape)\n",
    "print(test_data.shape)\n",
    "print(test_ids.shape)"
   ]
  },
  {
   "cell_type": "code",
   "execution_count": 44,
   "metadata": {},
   "outputs": [],
   "source": [
    "# Split train_data\n",
    "X_train = train_data\n",
    "Y_train = train_labels\n",
    "X_test = test_data\n",
    "X_train, X_test, Y_train, Y_test = train_test_split(train_data, train_labels, test_size=0.20)"
   ]
  },
  {
   "cell_type": "code",
   "execution_count": 45,
   "metadata": {},
   "outputs": [],
   "source": [
    "# from siml.sk_utils import *\n",
    "# from siml.signal_analysis_utils import *\n",
    "\n",
    "# denominator = 10\n",
    "# X_train, Y_train = extract_features_labels(train_data, train_labels, T, N, f_s, denominator)\n",
    "# X_test, Y_test = extract_features_labels(test_data, test_labels, T, N, f_s, denominator)\n"
   ]
  },
  {
   "cell_type": "code",
   "execution_count": 49,
   "metadata": {},
   "outputs": [
    {
     "name": "stdout",
     "output_type": "stream",
     "text": [
      "(7200, 150, 3)\n",
      "(7200,)\n",
      "(1800, 150, 3)\n",
      "(1800,)\n"
     ]
    }
   ],
   "source": [
    "print(X_train.shape)\n",
    "print(Y_train.shape)\n",
    "print(X_test.shape)\n",
    "print(Y_test.shape)"
   ]
  },
  {
   "cell_type": "code",
   "execution_count": 47,
   "metadata": {},
   "outputs": [
    {
     "name": "stdout",
     "output_type": "stream",
     "text": [
      "(7200, 600)\n",
      "(1800, 600)\n"
     ]
    }
   ],
   "source": [
    "def extract_features(data):\n",
    "    feature_engin = []\n",
    "    feature_engin.append(np.mean(data, axis=2))\n",
    "#     feature_engin.append(np.var(data, axis=1))\n",
    "#     feature_engin.append(np.std(data, axis=1))\n",
    "#     feature_engin.append(np.median(data, axis=1))\n",
    "#     feature_engin.append(np.amin(data, axis=1))\n",
    "#     feature_engin.append(np.amax(data, axis=1))\n",
    "#     feature_engin.append(np.average(data, axis=1))\n",
    "#     feature_engin.append(np.quantile(data, 0.5, axis=1))\n",
    "#     feature_engin.append(np.argmax(data, axis=1))\n",
    "#     feature_engin.append(np.prod(data**2, axis=1))\n",
    "\n",
    "\n",
    "#     feature_engin.append(np.sum(data**2, axis=1))\n",
    "\n",
    "#     feature_engin.append(np.sqrt(np.sum(data**2, axis=1)))\n",
    "\n",
    "    new_data = []\n",
    "    for feature in feature_engin:\n",
    "        new_data = np.append(new_data, feature)\n",
    "    \n",
    "    size_f = np.sum([x.shape[1] for x in feature_engin])\n",
    "    return new_data.reshape(len(data), size_f)\n",
    "\n",
    "# train_features = np.reshape(X_train, (X_train.shape[0], X_train.shape[1]*X_train.shape[2]))\n",
    "# test_features = np.reshape(X_test, (X_test.shape[0], X_test.shape[1]*X_test.shape[2]))\n",
    "# train_features = np.append(train_features, extract_features(X_train), axis = 1)\n",
    "# test_features = np.append(test_features, extract_features(X_test), axis = 1)\n",
    "\n",
    "# train_features = extract_features(X_train)\n",
    "# test_features = extract_features(X_test)\n",
    "\n",
    "print(train_features.shape)\n",
    "print(test_features.shape)"
   ]
  },
  {
   "cell_type": "code",
   "execution_count": 143,
   "metadata": {},
   "outputs": [],
   "source": [
    "# clf = RandomForestClassifier(n_estimators=1000)\n",
    "# clf.fit(X_train, Y_train)\n",
    "# print(\"Accuracy on training set is : {}\".format(clf.score(X_train, Y_train)))\n",
    "# print(\"Accuracy on test set is : {}\".format(clf.score(X_test, Y_test)))\n"
   ]
  },
  {
   "cell_type": "code",
   "execution_count": 144,
   "metadata": {},
   "outputs": [],
   "source": [
    "# dict_results = batch_classify(train_features, train_labels, test_features, test_labels)\n",
    "# display_dict_models(dict_results)"
   ]
  },
  {
   "cell_type": "code",
   "execution_count": 36,
   "metadata": {},
   "outputs": [
    {
     "name": "stdout",
     "output_type": "stream",
     "text": [
      "Trainaccuracy (standard,1,rbf): 0.936\n",
      "Test accuracy (standard,1,rbf): 0.752\n",
      "Trainaccuracy (standard,10,rbf): 0.998\n",
      "Test accuracy (standard,10,rbf): 0.807\n",
      "Trainaccuracy (standard,50,rbf): 1.0\n",
      "Test accuracy (standard,50,rbf): 0.801\n",
      "Trainaccuracy (standard,100,rbf): 1.0\n",
      "Test accuracy (standard,100,rbf): 0.801\n",
      "[[[0.936 0.998 1.    1.   ]\n",
      "  [0.752 0.807 0.801 0.801]]]\n"
     ]
    }
   ],
   "source": [
    "def evaluateSVM(train_data, train_labels, test_data, test_labels):\n",
    "    C = [1, 10, 50, 100]\n",
    "    norm_types = ['standard']\n",
    "    algo = ['rbf']\n",
    "    accuracy = np.zeros((len(norm_types), 2, len(C)))\n",
    "\n",
    "    for j in range(len(norm_types)):\n",
    "        for i in range(len(C)):\n",
    "            for a in range(len(algo)):\n",
    "                train_data, test_data = normalize_data(train_data, test_data, type=norm_types[j])\n",
    "                train_labels_predicted, test_labels_predicted = svm_classifier(train_data, train_labels, test_data, C[i], algo[a])\n",
    "\n",
    "                print(\"Trainaccuracy (\" + norm_types[j] + \",\" + str(C[i]) + \",\" + algo[a] + \"): \" + str(compute_accuracy(train_labels, train_labels_predicted)))\n",
    "                print(\"Test accuracy (\" + norm_types[j] + \",\" + str(C[i]) + \",\" + algo[a] + \"): \" + str(compute_accuracy(test_labels, test_labels_predicted)))\n",
    "\n",
    "                accuracy[j, 0, i] = compute_accuracy(train_labels, train_labels_predicted)\n",
    "                accuracy[j, 1, i] = compute_accuracy(test_labels, test_labels_predicted)\n",
    "    \n",
    "    print(accuracy)\n",
    "    \n",
    "# evaluateSVM(X_train, Y_train, X_test, Y_test)\n",
    "evaluateSVM(train_features[:1000], Y_train[:1000], test_features[:1000], Y_test[:1000])\n",
    "# X_train, X_test = normalize_data(train_features, test_features, type='standard')\n",
    "# _, test_labels_predicted = svm_classifier(X_train, Y_train, X_test, 100, 'rbf')"
   ]
  },
  {
   "cell_type": "code",
   "execution_count": 60,
   "metadata": {},
   "outputs": [
    {
     "name": "stdout",
     "output_type": "stream",
     "text": [
      "Train accuracy:  1.0\n",
      "Test accuracy:  0.831\n"
     ]
    },
    {
     "data": {
      "text/plain": [
       "array([13.,  6., 14.,  4.,  0., 19., 12.,  4., 11., 17., 19.,  2., 13.,\n",
       "       14., 18., 10., 13.,  1.,  0.,  4., 15., 10., 15.,  5., 18., 14.,\n",
       "       13.,  2.,  2., 13., 18.,  4., 11.,  0.,  2.,  6.,  9., 14.,  3.,\n",
       "       19., 13., 16., 12., 10.,  1., 10., 13.,  3., 13.,  1., 17., 12.,\n",
       "       16., 16., 15., 16.,  8., 10., 14., 12., 13.,  2., 11.,  1.,  5.,\n",
       "        6., 11., 16.,  8., 18., 19., 10., 11., 13., 11., 17., 10., 18.,\n",
       "        5.,  0.,  8., 13.,  2.,  7., 18., 18., 15.,  0., 17., 12.,  2.,\n",
       "        4.,  2., 14., 10., 12., 11., 18.,  8.,  2., 19.,  9., 16.,  6.,\n",
       "       15.,  9.,  1., 19.,  4.,  6.,  7.,  9., 12.,  3.,  6., 10.,  4.,\n",
       "        7.,  1.,  5.,  7.,  8., 13., 19., 13.,  0., 10.,  9.,  1.,  6.,\n",
       "       17.,  2., 12.,  8., 14., 16., 16.,  3., 18.,  8.,  8., 15., 10.,\n",
       "        9.,  8., 15., 11.,  3.,  7., 13.,  1., 16.,  4.,  3., 11., 16.,\n",
       "        1.,  9., 11.,  4., 17.,  7.,  3., 13.,  6.,  6., 10.,  0., 16.,\n",
       "       13., 13., 15.,  2., 13.,  7., 12., 12.,  4.,  4., 18., 15., 10.,\n",
       "       14.,  9., 14., 19.,  0., 13., 17.,  6., 19., 19., 19.,  0.,  0.,\n",
       "        9., 11.,  2., 12., 17.,  2.,  6.,  2.,  9.,  0., 14., 13.,  3.,\n",
       "        7., 17.,  1., 10., 13.,  6., 16., 12.,  1.,  7., 13., 10.,  3.,\n",
       "       12.,  6., 15., 10.,  0., 15.,  4., 16., 10.,  1.,  1., 15., 12.,\n",
       "       16.,  1., 16., 16., 19.,  7.,  5.,  9.,  4.,  5.,  2., 12., 14.,\n",
       "       17.,  9.,  3., 13.,  3.,  1.,  4.,  9., 18.,  7.,  1., 15., 15.,\n",
       "        3.,  7.,  0.,  7., 18.,  1.,  9., 15., 16.,  5.,  4.,  6., 19.,\n",
       "        3., 13., 16., 15.,  4., 10.,  2.,  4., 12.,  1., 18.,  8.,  1.,\n",
       "        2., 14.,  0.,  1.,  8.,  1., 17., 12.,  6., 14.,  8.,  1., 13.,\n",
       "       18.,  7.,  0., 11., 13., 10.,  5., 10., 15.,  6., 17.,  0.,  7.,\n",
       "       13.,  0.,  8., 12., 10.,  7.,  9.,  0.,  5.,  9., 11., 14., 12.,\n",
       "        8.,  6.,  8.,  3., 13.,  0.,  5., 19.,  3.,  2., 13.,  7.,  4.,\n",
       "        9.,  4.,  0.,  8., 11.,  2.,  0., 18.,  7.,  8.,  3., 12.,  3.,\n",
       "       17., 14.,  3., 11., 15., 12., 10.,  6.,  8., 13., 15., 12.,  5.,\n",
       "        6., 14., 11.,  6., 10.,  9., 11., 16., 12., 15.,  2., 10.,  9.,\n",
       "       11., 13., 14., 15.,  6.,  4., 18., 13., 14., 14., 15.,  2.,  8.,\n",
       "        8.,  3., 11., 12.,  2., 15.,  0., 18.,  1.,  3.,  0., 10., 19.,\n",
       "        0., 17.,  0., 16.,  4., 12.,  6., 13.,  7.,  3.,  7., 12., 16.,\n",
       "        2.,  4.,  4.,  0.,  9., 11.,  6., 15., 18., 11.,  0., 14., 14.,\n",
       "       15., 14.,  9., 19., 15.,  7., 18.,  9.,  9.,  2.,  8., 16., 17.,\n",
       "        4., 15., 14.,  3.,  5., 17.,  7., 15.,  6., 15., 15.,  3.,  8.,\n",
       "        9., 13., 18.,  4., 14.,  2.,  2., 14.,  7., 17.,  3.,  3., 13.,\n",
       "        6., 15.,  9., 16., 19., 11., 10., 17., 12., 11., 17., 13., 18.,\n",
       "        3., 14.,  3., 10., 13.,  7.,  0.,  0., 10.,  6., 16.,  3.,  8.,\n",
       "       11., 15.,  7., 12., 14., 15.,  8.,  7., 12.,  8.,  2., 18.,  7.,\n",
       "        2., 19., 16.,  3.,  8.,  9., 19., 19., 19.,  0.,  1., 12., 10.,\n",
       "        9.,  2.,  8., 19., 14., 15.,  1., 19.,  6., 17.,  6., 15.,  6.,\n",
       "        8.,  2., 16.,  1., 16., 18., 15., 16., 18., 16.,  9.,  9., 15.,\n",
       "       17., 18.,  8.,  7., 16.,  3., 10.,  5., 17.,  1.,  9., 13.,  1.,\n",
       "        2., 16.,  7.,  7., 17.,  4.,  9., 18., 18., 17.,  1.,  4.,  5.,\n",
       "        6.,  6.,  1., 18., 18.,  8., 14.,  9., 10., 15.,  5.,  0., 19.,\n",
       "       17.,  1., 13., 10., 12.,  0.,  8., 10., 11., 14.,  2.,  1., 16.,\n",
       "        9., 17., 16.,  6., 18., 11.,  9.,  1.,  0., 14., 14.,  4., 10.,\n",
       "       17.,  0.,  8., 18., 13., 13., 11.,  4., 19.,  9., 11., 15., 15.,\n",
       "        5., 17.,  5., 15., 10.,  7.,  9.,  2., 18., 10.,  2., 11., 10.,\n",
       "        2.,  3., 11.,  7., 10.,  5.,  2.,  8.,  8., 11., 17., 12.,  5.,\n",
       "       19.,  6., 18., 11.,  7.,  3., 14., 17., 18.,  2.,  2.,  5., 17.,\n",
       "       13., 14.,  4., 14., 12., 17., 16., 19.,  8., 13., 10., 12., 13.,\n",
       "       19., 17., 14., 12.,  2., 14., 11.,  0.,  5.,  0., 12.,  2., 12.,\n",
       "       14.,  6., 13., 16.,  4.,  6.,  7.,  4.,  1.,  2., 15.,  0., 16.,\n",
       "        8.,  2., 15., 13., 15., 19., 15.,  0., 13., 18.,  9., 16.,  3.,\n",
       "        7., 11.,  5., 14., 19.,  4.,  1., 14.,  5., 10.,  1.,  7.,  6.,\n",
       "        0.,  2.,  7., 17., 15.,  9.,  9.,  0.,  0., 17., 10., 14.,  9.,\n",
       "       14.,  1., 14., 12., 12.,  1.,  8., 11.,  0., 19.,  1., 17.,  0.,\n",
       "       12., 12.,  7., 16.,  4., 17.,  6., 10.,  5., 18., 12.,  0., 11.,\n",
       "        2.,  5.,  7.,  4., 19.,  5., 19., 19., 19.,  4., 19., 19., 14.,\n",
       "        2.,  0., 11.,  6.,  5.,  6.,  0.,  1., 14.,  2., 18.,  1., 12.,\n",
       "       13., 19., 14.,  2.,  9., 18., 15., 18., 17.,  0.,  6.,  0., 16.,\n",
       "        9., 18., 17., 13., 15.,  5.,  5., 19., 19.,  7.,  8.,  8., 10.,\n",
       "        8., 18.,  8.,  5., 16., 16., 17., 11., 18.,  6.,  0.,  9., 16.,\n",
       "       12., 12.,  5., 15.,  0., 17., 15.,  4., 10.,  0., 19., 17.,  0.,\n",
       "        9.,  5., 10., 13., 16., 17.,  1.,  3.,  8., 14.,  2., 13.,  5.,\n",
       "       18.,  8.,  0.,  0.,  5., 10., 16.,  4.,  3.,  0.,  5.,  1.,  9.,\n",
       "        6., 10., 18., 10.,  7.,  2., 15., 19., 10., 19., 10., 13., 19.,\n",
       "       14., 17.,  9.,  9.,  7.,  2.,  7., 14., 15.,  6., 18., 14.,  3.,\n",
       "        8., 16.,  0.,  8., 16.,  2., 16.,  2.,  0.,  3.,  3.,  4.,  8.,\n",
       "       12., 16.,  2., 19.,  9.,  3.,  0.,  0.,  8., 15., 14., 16., 11.,\n",
       "       14., 13.,  7.,  3., 17.,  3.,  2., 17.,  2., 15., 10.,  1.,  4.,\n",
       "       18.,  5., 16., 14.,  5., 16.,  5.,  7., 19.,  5., 19., 18.,  3.,\n",
       "       16.,  1.,  7.,  4., 10.,  0., 14.,  9.,  8.,  6., 12.,  0., 19.,\n",
       "       13., 17., 12., 10.,  0.,  7.,  1., 13.,  6.,  8., 17.,  0.,  6.,\n",
       "       12.,  4.,  2.,  7., 16.,  9., 18.,  0., 19., 19., 17.,  2., 14.,\n",
       "        6., 17., 16.,  0., 13.,  0., 16., 14., 18., 18.,  5.,  9.])"
      ]
     },
     "execution_count": 60,
     "metadata": {},
     "output_type": "execute_result"
    }
   ],
   "source": [
    "def evaluate_RandomForest(train_data, train_labels, test_data, test_labels):\n",
    "    rf = RandomForestClassifier(n_estimators = 1000)\n",
    "#     train_data, test_data = normalize_data(train_data, test_data, type=\"standard\")\n",
    "    rf.fit(train_data, train_labels)\n",
    "    \n",
    "    train_labels_predicted = rf.predict(train_data)\n",
    "    test_labels_predicted = rf.predict(test_data)\n",
    "    print(\"Train accuracy: \", compute_accuracy(train_labels, train_labels_predicted))\n",
    "    print(\"Test accuracy: \", compute_accuracy(test_labels, test_labels_predicted))\n",
    "    \n",
    "    return test_labels_predicted\n",
    "\n",
    "evaluate_RandomForest(train_features[:5000], Y_train[:5000], test_features[:1000], Y_test[:1000])\n",
    "# test_labels_predicted = evaluate_RandomForest(train_features, train_labels, test_features, test_labels)"
   ]
  },
  {
   "cell_type": "code",
   "execution_count": null,
   "metadata": {},
   "outputs": [],
   "source": [
    "# fit a model\n",
    "def evaluate_model_LSTM(trainX, trainY):\n",
    "    verbose, epochs, batch_size = 0, 15, 64\n",
    "    n_timesteps, n_features, n_outputs = trainX.shape[1], trainX.shape[2], trainY.shape[1]\n",
    "    model = Sequential()\n",
    "    model.add(LSTM(100, input_shape=(n_timesteps, n_features)))\n",
    "    model.add(Dropout(0.5))\n",
    "    model.add(Dense(100, activation='relu'))\n",
    "    model.add(Dense(n_outputs, activation='softmax'))\n",
    "    model.compile(loss='categorical_crossentropy', optimizer='adam', metrics=['accuracy'])\n",
    "    \n",
    "    # fit network\n",
    "    model.fit(trainX, trainY, epochs=epochs, batch_size=batch_size, verbose=verbose)\n",
    "    \n",
    "    # evaluate model\n",
    "    _, accuracy = model.evaluate(trainX, trainY, batch_size=batch_size, verbose=0)\n",
    "    print(accuracy)\n",
    "    \n",
    "    return model"
   ]
  },
  {
   "cell_type": "code",
   "execution_count": 38,
   "metadata": {},
   "outputs": [],
   "source": [
    "# fit and evaluate a model\n",
    "def evaluate_model_ConvLSTM2D(trainX, trainy, testX, testy):\n",
    "    # define model\n",
    "    verbose, epochs, batch_size = 0, 150, 128\n",
    "    n_timesteps, n_features, n_outputs = trainX.shape[1], trainX.shape[2], trainy.shape[1]\n",
    "    \n",
    "    # reshape into subsequences (samples, time steps, rows, cols, channels)\n",
    "    n_steps, n_length = 4, 37\n",
    "    trainX = trainX.reshape((trainX.shape[0], n_steps, 1, n_length, n_features))\n",
    "    testX = testX.reshape((testX.shape[0], n_steps, 1, n_length, n_features))\n",
    "\n",
    "    # define model\n",
    "    model = Sequential()\n",
    "    model.add(ConvLSTM2D(filters=64, kernel_size=(1,3), activation='relu', input_shape=(n_steps, 1, n_length, n_features)))\n",
    "    model.add(Dropout(0.5))\n",
    "    model.add(Flatten())\n",
    "    model.add(Dense(100, activation='relu'))\n",
    "    model.add(Dense(n_outputs, activation='softmax'))\n",
    "    model.compile(loss='categorical_crossentropy', optimizer='adam', metrics=['accuracy'])\n",
    "    \n",
    "    # fit network\n",
    "    model.fit(trainX, trainy, epochs=epochs, batch_size=batch_size, verbose=verbose)\n",
    "    \n",
    "    # evaluate model\n",
    "    _, accuracy = model.evaluate(testX, testy, batch_size=batch_size, verbose=0)\n",
    "    print(accuracy)\n",
    "    \n",
    "    return model"
   ]
  },
  {
   "cell_type": "code",
   "execution_count": null,
   "metadata": {},
   "outputs": [],
   "source": [
    "# fit and evaluate random forrest model\n",
    "def evaluate_model_RandomForrest(trainX, trainY, testX, testY):\n",
    "    # Create a Gaussian Classifier\n",
    "    model = RandomForestClassifier(n_estimators=1000)\n",
    "\n",
    "    # Train the model using the training sets y_pred=clf.predict(X_test)\n",
    "    model.fit(trainX, trainY)\n",
    "    \n",
    "    # Evaluate model\n",
    "    print(\"Accuracy on training set is : {}\".format(model.score(trainX, trainY)))\n",
    "    print(\"Accuracy on test set is : {}\".format(model.score(testX, testY)))\n",
    "    \n",
    "    return model"
   ]
  },
  {
   "cell_type": "code",
   "execution_count": null,
   "metadata": {},
   "outputs": [],
   "source": [
    "r = X_train\n",
    "for i in range(X_train.shape[0]):\n",
    "    for el in np.mean(X_train[i], axis=1):\n",
    "        print(r.shape)\n",
    "        print(el)\n",
    "        \n",
    "r"
   ]
  },
  {
   "cell_type": "code",
   "execution_count": 48,
   "metadata": {},
   "outputs": [
    {
     "ename": "ValueError",
     "evalue": "cannot reshape array of size 3240000 into shape (7200,150,4)",
     "output_type": "error",
     "traceback": [
      "\u001b[1;31m---------------------------------------------------------------------------\u001b[0m",
      "\u001b[1;31mValueError\u001b[0m                                Traceback (most recent call last)",
      "\u001b[1;32m<ipython-input-48-1b2a1b44c1d6>\u001b[0m in \u001b[0;36m<module>\u001b[1;34m\u001b[0m\n\u001b[0;32m      1\u001b[0m \u001b[1;31m# evaluate a model\u001b[0m\u001b[1;33m\u001b[0m\u001b[1;33m\u001b[0m\u001b[1;33m\u001b[0m\u001b[0m\n\u001b[1;32m----> 2\u001b[1;33m \u001b[0mX_train\u001b[0m \u001b[1;33m=\u001b[0m \u001b[0mX_train\u001b[0m\u001b[1;33m.\u001b[0m\u001b[0mreshape\u001b[0m\u001b[1;33m(\u001b[0m\u001b[1;33m(\u001b[0m\u001b[1;36m7200\u001b[0m\u001b[1;33m,\u001b[0m \u001b[1;36m150\u001b[0m\u001b[1;33m,\u001b[0m \u001b[1;36m4\u001b[0m\u001b[1;33m)\u001b[0m\u001b[1;33m)\u001b[0m\u001b[1;33m\u001b[0m\u001b[1;33m\u001b[0m\u001b[0m\n\u001b[0m\u001b[0;32m      3\u001b[0m \u001b[0mY_train\u001b[0m \u001b[1;33m=\u001b[0m \u001b[0mY_train\u001b[0m\u001b[1;33m.\u001b[0m\u001b[0mreshape\u001b[0m\u001b[1;33m(\u001b[0m\u001b[1;33m(\u001b[0m\u001b[1;36m1800\u001b[0m\u001b[1;33m,\u001b[0m \u001b[1;36m150\u001b[0m\u001b[1;33m,\u001b[0m \u001b[1;36m4\u001b[0m\u001b[1;33m)\u001b[0m\u001b[1;33m)\u001b[0m\u001b[1;33m\u001b[0m\u001b[1;33m\u001b[0m\u001b[0m\n\u001b[0;32m      4\u001b[0m \u001b[1;33m\u001b[0m\u001b[0m\n\u001b[0;32m      5\u001b[0m \u001b[0mmodel\u001b[0m \u001b[1;33m=\u001b[0m \u001b[0mevaluate_model_ConvLSTM2D\u001b[0m\u001b[1;33m(\u001b[0m\u001b[0mX_train\u001b[0m\u001b[1;33m,\u001b[0m \u001b[0mY_train\u001b[0m\u001b[1;33m.\u001b[0m\u001b[0mravel\u001b[0m\u001b[1;33m(\u001b[0m\u001b[1;33m)\u001b[0m\u001b[1;33m,\u001b[0m \u001b[0mX_test\u001b[0m\u001b[1;33m,\u001b[0m \u001b[0mY_test\u001b[0m\u001b[1;33m.\u001b[0m\u001b[0mravel\u001b[0m\u001b[1;33m(\u001b[0m\u001b[1;33m)\u001b[0m\u001b[1;33m)\u001b[0m\u001b[1;33m\u001b[0m\u001b[1;33m\u001b[0m\u001b[0m\n",
      "\u001b[1;31mValueError\u001b[0m: cannot reshape array of size 3240000 into shape (7200,150,4)"
     ]
    }
   ],
   "source": [
    "# evaluate a model\n",
    "\n",
    "\n",
    "model = evaluate_model_ConvLSTM2D(X_train, Y_train.ravel(), X_test, Y_test.ravel())\n",
    "# model = evaluate_model_ConvLSTM2D(train_data, train_labels, test_data, test_labels)\n",
    "# model = evaluate_model_ConvLSTM2D(train_data, train_labels, train_data, train_labels)"
   ]
  },
  {
   "cell_type": "markdown",
   "metadata": {},
   "source": [
    "#### Test with different configs\n",
    "4 features \n",
    "verbose, epochs, batch_size = 0, 25, 64      -> 0.847\n",
    "\n",
    "\n",
    "3 features \n",
    "verbose, epochs, batch_size = 0, 25, 64      -> 0.8795\n",
    "\n",
    "\n",
    "3 features \n",
    "verbose, epochs, batch_size = 0, 35, 128     -> 0.8845\n",
    "\n",
    "\n",
    "3 features\n",
    "verbose, epochs, batch_size = 1, 50, 128     -> 0.8984\n",
    "\n",
    "\n",
    "3 features\n",
    "verbose, epochs, batch_size = 1, 100, 128    -> 0.9115\n",
    "\n",
    "3 features + std\n",
    "verbose, epochs, batch_size = 0, 100, 128    -> 0.9044\n",
    "\n",
    "3 features + std\n",
    "verbose, epochs, batch_size = 0, 150, 128    -> 0.9194\n",
    "\n",
    "3 features + std\n",
    "bucket size = 145\n",
    "verbose, epochs, batch_size = 0, 150, 128    -> 0.9439\n",
    "\n"
   ]
  },
  {
   "cell_type": "code",
   "execution_count": null,
   "metadata": {},
   "outputs": [],
   "source": [
    "# make predictions for test_data\n",
    "def predictConvLSTM(model, testX):\n",
    "    # reshape into subsequences (samples, time steps, rows, cols, channels)\n",
    "    n_steps, n_length, n_features = 4, 37, testX.shape[2]\n",
    "    testX = testX.reshape((testX.shape[0], n_steps, 1, n_length, n_features))\n",
    "    predictions = model.predict(testX)\n",
    "    \n",
    "    return predictions"
   ]
  },
  {
   "cell_type": "code",
   "execution_count": null,
   "metadata": {},
   "outputs": [],
   "source": [
    "def evaluate_including_test_data():\n",
    "    global model, train_data, test_data, train_labels\n",
    "    \n",
    "    test_labels = predictConvLSTM(model, test_data)\n",
    "    print(train_data.shape)\n",
    "    print(test_data.shape)\n",
    "    \n",
    "    print(train_labels.shape)\n",
    "    print(test_labels.shape)\n",
    "\n",
    "    train_data = np.concatenate((train_data, test_data))\n",
    "    train_labels = np.concatenate((train_labels, test_labels))\n",
    "\n",
    "    model = evaluate_model_ConvLSTM2D(train_data, train_labels, train_data, train_labels)    \n",
    "    \n",
    "evaluate_including_test_data()"
   ]
  },
  {
   "cell_type": "code",
   "execution_count": null,
   "metadata": {},
   "outputs": [],
   "source": [
    "# test predict\n",
    "predictions = predictConvLSTM(model, test_data)\n",
    "np.argmax(predictions[0])"
   ]
  },
  {
   "cell_type": "code",
   "execution_count": 161,
   "metadata": {},
   "outputs": [
    {
     "name": "stdout",
     "output_type": "stream",
     "text": [
      "[2. 1. 4. ... 3. 4. 0.]\n"
     ]
    }
   ],
   "source": [
    "print(test_labels_predicted)"
   ]
  },
  {
   "cell_type": "code",
   "execution_count": 162,
   "metadata": {},
   "outputs": [
    {
     "name": "stdout",
     "output_type": "stream",
     "text": [
      "{'id': [10001, 10002, 10004, 10008, 10009, 10010, 10011, 10015, 10023, 10027, 10032, 10034, 10035, 10040, 10041, 10043, 10044, 10045, 10048, 10051, 10057, 10060, 10061, 10063, 10068, 10069, 10073, 10080, 10083, 10084, 10089, 10093, 10095, 10097, 10099, 10102, 10104, 10105, 10107, 10115, 10116, 10118, 10123, 10126, 10127, 10129, 10130, 10131, 10134, 10136, 10137, 10139, 10141, 10147, 10148, 10149, 10151, 10152, 10156, 10157, 10158, 10160, 10162, 10167, 10171, 10175, 10177, 10180, 10182, 10184, 10190, 10194, 10195, 10197, 10198, 10202, 10203, 10204, 10209, 10210, 10223, 10226, 10232, 10235, 10236, 10237, 10241, 10242, 10244, 10246, 10247, 10248, 10250, 10251, 10256, 10259, 10260, 10261, 10263, 10264, 10265, 10267, 10269, 10273, 10276, 10285, 10287, 10291, 10296, 10300, 10301, 10304, 10305, 10309, 10310, 10320, 10322, 10323, 10324, 10325, 10329, 10336, 10337, 10338, 10341, 10351, 10352, 10354, 10357, 10358, 10359, 10361, 10364, 10366, 10369, 10370, 10374, 10375, 10377, 10381, 10382, 10384, 10389, 10390, 10392, 10394, 10402, 10404, 10406, 10409, 10410, 10412, 10414, 10417, 10418, 10420, 10423, 10426, 10427, 10434, 10435, 10441, 10452, 10453, 10461, 10462, 10466, 10467, 10468, 10472, 10476, 10480, 10484, 10485, 10488, 10489, 10493, 10494, 10497, 10498, 10500, 10507, 10511, 10519, 10521, 10524, 10526, 10530, 10535, 10536, 10538, 10539, 10552, 10554, 10556, 10558, 10560, 10564, 10566, 10569, 10570, 10571, 10575, 10577, 10583, 10584, 10585, 10589, 10592, 10594, 10595, 10596, 10601, 10606, 10607, 10613, 10615, 10618, 10621, 10626, 10628, 10629, 10633, 10634, 10638, 10642, 10643, 10644, 10646, 10647, 10653, 10655, 10656, 10657, 10666, 10668, 10669, 10670, 10671, 10676, 10679, 10682, 10684, 10685, 10686, 10687, 10688, 10691, 10693, 10700, 10704, 10705, 10707, 10711, 10716, 10717, 10718, 10719, 10725, 10729, 10730, 10732, 10736, 10737, 10738, 10739, 10744, 10749, 10750, 10751, 10753, 10755, 10756, 10757, 10759, 10760, 10761, 10763, 10767, 10768, 10770, 10772, 10774, 10776, 10777, 10778, 10779, 10783, 10784, 10786, 10795, 10798, 10803, 10806, 10807, 10812, 10814, 10816, 10819, 10821, 10825, 10827, 10832, 10833, 10837, 10838, 10839, 10840, 10842, 10847, 10852, 10854, 10856, 10859, 10861, 10862, 10863, 10865, 10866, 10868, 10870, 10873, 10874, 10875, 10881, 10883, 10885, 10886, 10887, 10888, 10890, 10891, 10892, 10894, 10896, 10900, 10905, 10908, 10910, 10917, 10920, 10926, 10938, 10943, 10946, 10950, 10952, 10953, 10957, 10958, 10959, 10962, 10965, 10966, 10967, 10970, 10972, 10974, 10979, 10980, 10986, 10988, 10989, 10990, 10996, 10997, 10999, 11003, 11006, 11015, 11016, 11022, 11023, 11025, 11030, 11032, 11037, 11039, 11048, 11051, 11052, 11054, 11055, 11059, 11061, 11066, 11069, 11073, 11075, 11080, 11085, 11091, 11096, 11100, 11101, 11103, 11104, 11107, 11108, 11122, 11124, 11125, 11126, 11132, 11134, 11136, 11141, 11144, 11145, 11152, 11154, 11156, 11159, 11162, 11165, 11166, 11170, 11172, 11175, 11177, 11179, 11181, 11187, 11188, 11189, 11191, 11197, 11201, 11203, 11206, 11207, 11210, 11214, 11223, 11225, 11226, 11228, 11229, 11233, 11236, 11237, 11238, 11240, 11242, 11246, 11249, 11251, 11254, 11263, 11265, 11269, 11272, 11274, 11277, 11281, 11282, 11284, 11285, 11286, 11289, 11291, 11293, 11294, 11298, 11302, 11307, 11311, 11312, 11315, 11316, 11317, 11318, 11322, 11329, 11330, 11332, 11333, 11335, 11337, 11338, 11342, 11343, 11352, 11353, 11354, 11355, 11357, 11358, 11359, 11360, 11361, 11362, 11365, 11366, 11367, 11372, 11374, 11376, 11381, 11382, 11388, 11392, 11393, 11394, 11397, 11400, 11401, 11404, 11411, 11415, 11416, 11417, 11418, 11419, 11424, 11427, 11430, 11432, 11435, 11436, 11439, 11440, 11442, 11445, 11447, 11450, 11452, 11457, 11458, 11459, 11462, 11463, 11464, 11465, 11470, 11472, 11474, 11476, 11482, 11484, 11491, 11492, 11494, 11500, 11504, 11508, 11512, 11513, 11517, 11520, 11522, 11530, 11533, 11540, 11543, 11545, 11546, 11550, 11551, 11554, 11556, 11562, 11566, 11574, 11575, 11576, 11578, 11579, 11591, 11593, 11594, 11595, 11597, 11604, 11606, 11610, 11612, 11613, 11614, 11615, 11617, 11621, 11624, 11629, 11634, 11642, 11643, 11647, 11650, 11651, 11657, 11659, 11667, 11673, 11675, 11678, 11680, 11681, 11683, 11684, 11685, 11688, 11691, 11693, 11694, 11695, 11697, 11700, 11704, 11705, 11712, 11713, 11716, 11719, 11723, 11726, 11732, 11733, 11737, 11739, 11748, 11750, 11756, 11759, 11764, 11766, 11767, 11769, 11775, 11777, 11778, 11779, 11783, 11786, 11787, 11789, 11792, 11795, 11796, 11798, 11820, 11821, 11823, 11824, 11834, 11835, 11839, 11841, 11842, 11844, 11846, 11847, 11849, 11851, 11852, 11856, 11857, 11859, 11860, 11866, 11867, 11868, 11872, 11875, 11883, 11887, 11888, 11891, 11895, 11898, 11903, 11904, 11912, 11913, 11916, 11920, 11921, 11923, 11924, 11925, 11926, 11927, 11935, 11939, 11941, 11942, 11944, 11945, 11946, 11947, 11948, 11949, 11950, 11952, 11953, 11954, 11961, 11962, 11963, 11964, 11965, 11966, 11971, 11974, 11982, 11984, 11985, 11986, 11987, 11988, 11990, 11991, 11992, 11993, 11996, 11998, 11999, 12001, 12002, 12004, 12008, 12009, 12011, 12018, 12020, 12021, 12024, 12029, 12030, 12035, 12038, 12039, 12049, 12052, 12053, 12054, 12058, 12062, 12064, 12072, 12074, 12081, 12082, 12087, 12089, 12091, 12093, 12094, 12095, 12099, 12100, 12101, 12102, 12105, 12106, 12112, 12114, 12121, 12124, 12127, 12129, 12130, 12132, 12133, 12149, 12152, 12156, 12157, 12158, 12159, 12160, 12161, 12166, 12170, 12171, 12172, 12175, 12176, 12179, 12184, 12188, 12190, 12196, 12197, 12198, 12201, 12203, 12205, 12206, 12208, 12209, 12211, 12215, 12217, 12218, 12219, 12224, 12227, 12231, 12233, 12234, 12237, 12240, 12242, 12243, 12248, 12251, 12268, 12280, 12282, 12286, 12287, 12289, 12290, 12294, 12299, 12301, 12302, 12306, 12308, 12311, 12318, 12323, 12326, 12329, 12334, 12336, 12337, 12339, 12340, 12342, 12343, 12344, 12348, 12359, 12361, 12362, 12363, 12365, 12368, 12374, 12375, 12377, 12378, 12380, 12387, 12388, 12389, 12390, 12397, 12398, 12401, 12404, 12405, 12408, 12409, 12410, 12412, 12413, 12414, 12416, 12417, 12420, 12421, 12428, 12433, 12440, 12441, 12444, 12445, 12447, 12448, 12450, 12452, 12454, 12457, 12461, 12464, 12465, 12467, 12469, 12471, 12472, 12473, 12475, 12476, 12479, 12483, 12487, 12490, 12493, 12495, 12496, 12499, 12504, 12507, 12510, 12512, 12513, 12514, 12520, 12521, 12526, 12531, 12532, 12533, 12537, 12540, 12543, 12544, 12549, 12550, 12553, 12559, 12560, 12562, 12565, 12571, 12573, 12583, 12585, 12586, 12594, 12596, 12598, 12602, 12606, 12610, 12615, 12618, 12621, 12623, 12624, 12629, 12631, 12632, 12640, 12641, 12642, 12645, 12646, 12648, 12650, 12664, 12665, 12666, 12669, 12670, 12671, 12673, 12675, 12676, 12677, 12679, 12680, 12682, 12686, 12691, 12696, 12698, 12703, 12709, 12710, 12714, 12717, 12719, 12720, 12722, 12725, 12726, 12729, 12731, 12733, 12734, 12736, 12737, 12738, 12739, 12743, 12744, 12746, 12748, 12749, 12751, 12752, 12753, 12754, 12756, 12762, 12764, 12765, 12770, 12771, 12773, 12779, 12787, 12788, 12790, 12791, 12792, 12795, 12798, 12800, 12807, 12809, 12810, 12812, 12815, 12816, 12822, 12823, 12829, 12830, 12832, 12833, 12836, 12837, 12839, 12843, 12846, 12847, 12849, 12853, 12859, 12861, 12865, 12866, 12867, 12869, 12872, 12873, 12877, 12878, 12879, 12882, 12883, 12885, 12887, 12888, 12889, 12890, 12906, 12907, 12910, 12914, 12916, 12917, 12919, 12920, 12925, 12929, 12934, 12938, 12940, 12941, 12943, 12944, 12948, 12950, 12960, 12962, 12963, 12964, 12966, 12967, 12969, 12970, 12973, 12975, 12977, 12981, 12983, 12984, 12985, 12994, 13000, 13001, 13005, 13006, 13007, 13008, 13010, 13011, 13013, 13014, 13017, 13022, 13023, 13032, 13033, 13034, 13035, 13036, 13037, 13045, 13049, 13050, 13051, 13058, 13063, 13065, 13067, 13068, 13069, 13072, 13074, 13075, 13076, 13079, 13081, 13090, 13092, 13096, 13097, 13099, 13106, 13108, 13116, 13117, 13119, 13123, 13129, 13136, 13137, 13138, 13139, 13143, 13145, 13146, 13147, 13149, 13153, 13154, 13157, 13160, 13163, 13168, 13169, 13171, 13172, 13176, 13186, 13190, 13194, 13196, 13198, 13200, 13205, 13209, 13215, 13217, 13220, 13223, 13225, 13226, 13227, 13228, 13233, 13235, 13236, 13237, 13238, 13243, 13244, 13251, 13253, 13257, 13258, 13259, 13263, 13266, 13272, 13275, 13278, 13281, 13284, 13288, 13292, 13295, 13296, 13300, 13306, 13307, 13314, 13315, 13318, 13319, 13323, 13325, 13327, 13328, 13331, 13335, 13337, 13339, 13340, 13349, 13352, 13355, 13361, 13362, 13366, 13376, 13381, 13383, 13384, 13385, 13388, 13390, 13392, 13393, 13394, 13398, 13401, 13402, 13404, 13405, 13408, 13414, 13415, 13416, 13417, 13418, 13432, 13433, 13434, 13435, 13440, 13443, 13445, 13446, 13448, 13451, 13453, 13455, 13456, 13457, 13459, 13464, 13468, 13469, 13472, 13473, 13479, 13480, 13484, 13485, 13486, 13488, 13490, 13493, 13494, 13499, 13500, 13501, 13506, 13510, 13511, 13516, 13518, 13523, 13526, 13531, 13534, 13536, 13538, 13541, 13543, 13544, 13545, 13548, 13549, 13550, 13551, 13553, 13560, 13561, 13562, 13567, 13569, 13570, 13572, 13573, 13578, 13580, 13584, 13585, 13586, 13588, 13591, 13593, 13594, 13596, 13597, 13600, 13602, 13605, 13612, 13615, 13616, 13618, 13620, 13621, 13630, 13633, 13638, 13639, 13640, 13646, 13651, 13654, 13655, 13657, 13659, 13660, 13667, 13669, 13670, 13673, 13675, 13678, 13681, 13683, 13685, 13686, 13690, 13700, 13704, 13706, 13708, 13711, 13717, 13718, 13720, 13722, 13724, 13725, 13726, 13731, 13733, 13737, 13738, 13739, 13743, 13744, 13747, 13748, 13751, 13752, 13754, 13755, 13762, 13768, 13769, 13771, 13781, 13782, 13784, 13792, 13794, 13800, 13803, 13808, 13809, 13811, 13814, 13816, 13817, 13824, 13825, 13827, 13829, 13836, 13837, 13840, 13845, 13849, 13851, 13852, 13858, 13865, 13866, 13867, 13874, 13882, 13883, 13888, 13891, 13894, 13896, 13898, 13905, 13906, 13909, 13910, 13912, 13913, 13917, 13920, 13921, 13922, 13923, 13928, 13931, 13933, 13934, 13939, 13941, 13943, 13946, 13951, 13954, 13956, 13960, 13961, 13963, 13967, 13969, 13970, 13971, 13973, 13974, 13975, 13976, 13983, 13984, 13985, 13988, 13989, 13991, 13992, 13998, 14004, 14008, 14009, 14010, 14012, 14014, 14018, 14024, 14028, 14029, 14035, 14049, 14050, 14053, 14054, 14055, 14057, 14061, 14063, 14066, 14067, 14071, 14076, 14077, 14081, 14083, 14084, 14086, 14098, 14101, 14102, 14105, 14107, 14111, 14112, 14113, 14114, 14121, 14125, 14131, 14133, 14139, 14140, 14144, 14146, 14147, 14150, 14152, 14154, 14155, 14158, 14160, 14162, 14163, 14166, 14167, 14171, 14172, 14173, 14184, 14185, 14187, 14188, 14190, 14193, 14195, 14196, 14197, 14200, 14206, 14207, 14208, 14209, 14210, 14214, 14215, 14220, 14222, 14224, 14226, 14229, 14230, 14232, 14233, 14234, 14236, 14241, 14244, 14245, 14246, 14247, 14250, 14251, 14255, 14261, 14262, 14263, 14264, 14269, 14271, 14278, 14279, 14282, 14283, 14284, 14285, 14292, 14294, 14295, 14298, 14299, 14300, 14303, 14304, 14305, 14308, 14311, 14312, 14315, 14318, 14321, 14327, 14330, 14332, 14337, 14340, 14341, 14342, 14345, 14350, 14351, 14352, 14354, 14355, 14357, 14359, 14361, 14363, 14369, 14370, 14373, 14376, 14377, 14378, 14379, 14381, 14385, 14388, 14389, 14390, 14391, 14396, 14399, 14400, 14401, 14404, 14408, 14410, 14425, 14426, 14430, 14431, 14436, 14443, 14445, 14447, 14450, 14452, 14454, 14457, 14458, 14459, 14462, 14463, 14468, 14469, 14471, 14472, 14474, 14476, 14477, 14480, 14482, 14486, 14488, 14489, 14490, 14494, 14504, 14511, 14512, 14513, 14517, 14529, 14532, 14534, 14535, 14536, 14538, 14539, 14540, 14543, 14545, 14547, 14552, 14553, 14555, 14556, 14562, 14563, 14564, 14567, 14572, 14574, 14575, 14585, 14586, 14594, 14597, 14608, 14609, 14615, 14616, 14619, 14620, 14625, 14629, 14631, 14632, 14633, 14635, 14642, 14644, 14646, 14652, 14654, 14655, 14658, 14659, 14662, 14665, 14667, 14669, 14673, 14676, 14677, 14679, 14680, 14681, 14682, 14684, 14685, 14686, 14687, 14688, 14697, 14698, 14699, 14700, 14706, 14707, 14708, 14709, 14716, 14717, 14718, 14721, 14723, 14724, 14728, 14731, 14732, 14734, 14738, 14743, 14745, 14749, 14750, 14751, 14753, 14759, 14760, 14762, 14763, 14766, 14768, 14770, 14771, 14772, 14777, 14779, 14781, 14785, 14786, 14787, 14790, 14792, 14795, 14798, 14800, 14801, 14803, 14812, 14817, 14825, 14828, 14830, 14831, 14840, 14842, 14843, 14845, 14846, 14847, 14848, 14849, 14851, 14852, 14854, 14855, 14856, 14857, 14859, 14861, 14864, 14865, 14872, 14875, 14876, 14878, 14883, 14887, 14890, 14891, 14893, 14895, 14896, 14899, 14903, 14904, 14905, 14907, 14909, 14910, 14911, 14912, 14914, 14919, 14920, 14921, 14922, 14926, 14931, 14933, 14934, 14937, 14939, 14949, 14952, 14954, 14957, 14958, 14959, 14960, 14961, 14971, 14973, 14975, 14976, 14979, 14980, 14981, 14982, 14984, 14986, 14987, 14991, 14993, 14996, 14997, 14998, 14999, 15000, 15002, 15005, 15013, 15014, 15017, 15019, 15020, 15021, 15031, 15036, 15039, 15040, 15050, 15053, 15056, 15057, 15061, 15062, 15063, 15064, 15066, 15067, 15068, 15072, 15075, 15079, 15081, 15083, 15089, 15090, 15091, 15096, 15097, 15102, 15105, 15107, 15108, 15109, 15111, 15113, 15119, 15120, 15121, 15122, 15123, 15124, 15126, 15127, 15129, 15140, 15142, 15144, 15145, 15147, 15149, 15152, 15156, 15157, 15158, 15160, 15162, 15164, 15169, 15172, 15173, 15175, 15181, 15184, 15185, 15187, 15189, 15191, 15192, 15194, 15195, 15197, 15199, 15202, 15207, 15209, 15211, 15214, 15217, 15223, 15224, 15226, 15227, 15228, 15229, 15236, 15243, 15245, 15247, 15252, 15254, 15257, 15258, 15266, 15269, 15276, 15278, 15282, 15285, 15286, 15293, 15304, 15307, 15314, 15315, 15321, 15324, 15325, 15327, 15335, 15345, 15347, 15348, 15353, 15354, 15357, 15361, 15367, 15368, 15369, 15372, 15382, 15383, 15387, 15390, 15393, 15394, 15396, 15397, 15398, 15400, 15403, 15408, 15413, 15418, 15419, 15420, 15421, 15433, 15434, 15435, 15443, 15444, 15446, 15447, 15449, 15450, 15451, 15455, 15456, 15461, 15463, 15464, 15471, 15473, 15475, 15477, 15480, 15481, 15483, 15484, 15486, 15489, 15490, 15503, 15505, 15506, 15512, 15515, 15517, 15518, 15520, 15521, 15524, 15525, 15526, 15528, 15531, 15534, 15536, 15538, 15540, 15545, 15549, 15556, 15558, 15559, 15561, 15562, 15563, 15570, 15573, 15574, 15577, 15578, 15579, 15581, 15586, 15589, 15592, 15594, 15595, 15596, 15598, 15599, 15600, 15607, 15610, 15612, 15616, 15617, 15620, 15621, 15622, 15627, 15628, 15630, 15634, 15635, 15637, 15641, 15644, 15647, 15648, 15650, 15653, 15654, 15655, 15658, 15660, 15664, 15665, 15666, 15669, 15670, 15674, 15676, 15677, 15678, 15686, 15693, 15694, 15705, 15710, 15712, 15717, 15719, 15720, 15724, 15729, 15731, 15732, 15733, 15735, 15738, 15739, 15740, 15741, 15743, 15745, 15748, 15751, 15752, 15756, 15759, 15761, 15764, 15766, 15773, 15775, 15776, 15778, 15779, 15784, 15790, 15792, 15794, 15797, 15799, 15802, 15803, 15804, 15805, 15811, 15816, 15818, 15820, 15823, 15824, 15827, 15829, 15831, 15833, 15834, 15836, 15838, 15840, 15841, 15844, 15848, 15849, 15850, 15853, 15856, 15858, 15859, 15862, 15867, 15870, 15877, 15883, 15884, 15885, 15888, 15889, 15895, 15897, 15904, 15905, 15906, 15908, 15917, 15920, 15921, 15923, 15924, 15929, 15935, 15939, 15940, 15943, 15944, 15949, 15958, 15962, 15965, 15968, 15969, 15970, 15975, 15976, 15993, 15995, 15998, 16000, 16001, 16003, 16005, 16008, 16015, 16017, 16018, 16019, 16020, 16023, 16030, 16036, 16038, 16039, 16041, 16046, 16047, 16050, 16056, 16057, 16060, 16064, 16065, 16070, 16071, 16072, 16073, 16074, 16076, 16079, 16085, 16090, 16093, 16097, 16098, 16101, 16103, 16107, 16112, 16114, 16117, 16119, 16122, 16123, 16124, 16125, 16126, 16128, 16131, 16139, 16144, 16150, 16151, 16152, 16153, 16156, 16157, 16160, 16165, 16168, 16169, 16171, 16172, 16175, 16176, 16181, 16182, 16188, 16193, 16198, 16203, 16209, 16212, 16215, 16216, 16220, 16223, 16224, 16225, 16235, 16243, 16246, 16251, 16255, 16258, 16260, 16262, 16265, 16267, 16271, 16274, 16275, 16277, 16278, 16279, 16280, 16282, 16284, 16288, 16289, 16297, 16298, 16302, 16303, 16306, 16307, 16313, 16315, 16316, 16320, 16325, 16326, 16329, 16335, 16340, 16345, 16349, 16352, 16353, 16361, 16363, 16364, 16366, 16369, 16372, 16376, 16377, 16380, 16381, 16383, 16384, 16385, 16387, 16391, 16392, 16396, 16400, 16405, 16408, 16413, 16415, 16416, 16419, 16421, 16426, 16434, 16435, 16437, 16439, 16449, 16456, 16457, 16460, 16461, 16462, 16466, 16468, 16473, 16487, 16489, 16490, 16494, 16495, 16500, 16505, 16506, 16507, 16512, 16513, 16515, 16517, 16518, 16519, 16521, 16523, 16524, 16527, 16530, 16540, 16544, 16548, 16551, 16557, 16562, 16565, 16570, 16571, 16573, 16575, 16577, 16578, 16579, 16580, 16587, 16590, 16591, 16592, 16593, 16594, 16601, 16604, 16605, 16607, 16616, 16618, 16621, 16623, 16624, 16625, 16626, 16627, 16629, 16634, 16635, 16637, 16639, 16641, 16644, 16646, 16648, 16650, 16653, 16654, 16656, 16663, 16664, 16667, 16670, 16671, 16681, 16691, 16692, 16693, 16709, 16710, 16711, 16719, 16720, 16721, 16724, 16726, 16728, 16729, 16731, 16732, 16742, 16745, 16747, 16748, 16749, 16752, 16756, 16760, 16761, 16762, 16766, 16769, 16770, 16775, 16776, 16777, 16778, 16781, 16784, 16791, 16792, 16793, 16795, 16796, 16799, 16800, 16810, 16811, 16817, 16820, 16828, 16832, 16833, 16835, 16840, 16841, 16844, 16848, 16852, 16854, 16858, 16859, 16864, 16869, 16870, 16873, 16874, 16876, 16878, 16881, 16885, 16892, 16895, 16896, 16898, 16900, 16907, 16910, 16913, 16915, 16916, 16920, 16921, 16922, 16926, 16927, 16928, 16931, 16933, 16934, 16940, 16941, 16944, 16947, 16948, 16949, 16952, 16953, 16954, 16961, 16964, 16965, 16966, 16967, 16970, 16972, 16974, 16975, 16976, 16977, 16979, 16981, 16985, 16986, 16988, 16990, 16992, 17001, 17004, 17005, 17008, 17010, 17016, 17018, 17020, 17021, 17030, 17034, 17041, 17044, 17045, 17047, 17048, 17049, 17053, 17058, 17059, 17061, 17063, 17065, 17068, 17069, 17070, 17074, 17079, 17082, 17086, 17087, 17093, 17094, 17095, 17097, 17099, 17100, 17101, 17102, 17104, 17105, 17107, 17108, 17110, 17115, 17116, 17118, 17120, 17121, 17124, 17125, 17130, 17131, 17132, 17138, 17139, 17140, 17155, 17158, 17160, 17162, 17165, 17166, 17169, 17177, 17183, 17185, 17186, 17188, 17189, 17192, 17193, 17195, 17196, 17203, 17206, 17207, 17209, 17213, 17215, 17219, 17222, 17224, 17227, 17229, 17235, 17244, 17245, 17246, 17247, 17248, 17250, 17253, 17257, 17258, 17259, 17261, 17263, 17264, 17265, 17269, 17273, 17274, 17281, 17283, 17288, 17290, 17298, 17300, 17301, 17302, 17304, 17307, 17310, 17315, 17320, 17323, 17325, 17330, 17333, 17334, 17336, 17344, 17345, 17352, 17354, 17356, 17357, 17358, 17360, 17361, 17366, 17367, 17368, 17369, 17370, 17372, 17377, 17380, 17384, 17388, 17389, 17390, 17392, 17395, 17396, 17397, 17401, 17402, 17408, 17411, 17419, 17421, 17425, 17426, 17432, 17437, 17441, 17445, 17448, 17453, 17456, 17462, 17466, 17467, 17469, 17471, 17479, 17484, 17487, 17490, 17491, 17494, 17497, 17501, 17506, 17508, 17509, 17511, 17516, 17517, 17524, 17531, 17532, 17537, 17539, 17542, 17547, 17553, 17556, 17560, 17564, 17566, 17570, 17573, 17574, 17579, 17581, 17582, 17584, 17586, 17587, 17589, 17593, 17597, 17600, 17602, 17604, 17607, 17611, 17613, 17614, 17616, 17619, 17621, 17628, 17633, 17634, 17635, 17646, 17651, 17652, 17662, 17664, 17665, 17670, 17671, 17675, 17676, 17677, 17680, 17686, 17687, 17688, 17691, 17693, 17695, 17697, 17700, 17706, 17707, 17709, 17710, 17715, 17716, 17717, 17719, 17720, 17721, 17722, 17730, 17732, 17737, 17738, 17739, 17743, 17744, 17745, 17747, 17748, 17749, 17752, 17755, 17757, 17759, 17763, 17769, 17771, 17772, 17775, 17779, 17781, 17783, 17790, 17791, 17792, 17796, 17799, 17801, 17803, 17804, 17808, 17813, 17815, 17816, 17819, 17820, 17821, 17823, 17824, 17828, 17830, 17833, 17839, 17843, 17848, 17849, 17850, 17852, 17853, 17862, 17863, 17865, 17871, 17873, 17874, 17875, 17877, 17882, 17885, 17891, 17893, 17896, 17899, 17901, 17903, 17909, 17910, 17915, 17917, 17919, 17924, 17925, 17928, 17931, 17935, 17940, 17941, 17942, 17947, 17948, 17949, 17950, 17953, 17969, 17978, 17979, 17980, 17982, 17984, 17985, 17989, 17992, 17994, 17995, 17998, 18003, 18004, 18006, 18011, 18012, 18013, 18014, 18017, 18019, 18021, 18023, 18025, 18027, 18029, 18030, 18032, 18037, 18038, 18039, 18041, 18042, 18043, 18047, 18049, 18051, 18052, 18058, 18059, 18060, 18064, 18068, 18069, 18073, 18074, 18078, 18081, 18082, 18085, 18094, 18098, 18099, 18102, 18103, 18107, 18112, 18115, 18117, 18123, 18125, 18126, 18130, 18132, 18137, 18139, 18140, 18142, 18146, 18148, 18151, 18156, 18160, 18161, 18162, 18163, 18164, 18167, 18168, 18171, 18176, 18179, 18180, 18182, 18184, 18185, 18190, 18191, 18195, 18196, 18204, 18205, 18207, 18211, 18213, 18215, 18216, 18220, 18224, 18229, 18231, 18232, 18236, 18239, 18249, 18250, 18255, 18258, 18259, 18271, 18272, 18278, 18282, 18284, 18285, 18288, 18290, 18292, 18295, 18296, 18297, 18300, 18305, 18306, 18307, 18308, 18309, 18319, 18322, 18329, 18330, 18331, 18334, 18336, 18339, 18344, 18345, 18346, 18347, 18353, 18358, 18359, 18364, 18369, 18370, 18373, 18374, 18375, 18379, 18382, 18386, 18388, 18392, 18397, 18398, 18399, 18404, 18409, 18413, 18414, 18420, 18424, 18426, 18428, 18431, 18436, 18437, 18439, 18440, 18441, 18442, 18448, 18454, 18455, 18457, 18458, 18459, 18462, 18466, 18472, 18473, 18474, 18475, 18478, 18479, 18480, 18481, 18489, 18492, 18493, 18494, 18500, 18510, 18516, 18520, 18522, 18532, 18533, 18535, 18536, 18540, 18542, 18543, 18545, 18546, 18549, 18550, 18551, 18554, 18557, 18558, 18565, 18579, 18581, 18582, 18591, 18594, 18595, 18601, 18603, 18619, 18620, 18621, 18626, 18632, 18635, 18638, 18639, 18640, 18642, 18643, 18646, 18647, 18653, 18657, 18659, 18662, 18663, 18665, 18669, 18672, 18674, 18675, 18677, 18680, 18690, 18697, 18698, 18699, 18700, 18702, 18706, 18711, 18712, 18714, 18716, 18718, 18721, 18723, 18726, 18727, 18728, 18730, 18735, 18742, 18748, 18755, 18758, 18761, 18768, 18773, 18776, 18777, 18784, 18785, 18789, 18791, 18793, 18794, 18797, 18799, 18800, 18803, 18804, 18807, 18811, 18816, 18817, 18818, 18819, 18820, 18822, 18824, 18826, 18827, 18828, 18831, 18833, 18835, 18837, 18841, 18843, 18846, 18850, 18851, 18852, 18856, 18859, 18860, 18861, 18862, 18876, 18881, 18882, 18885, 18886, 18887, 18888, 18889, 18890, 18891, 18892, 18897, 18901, 18903, 18904, 18907, 18911, 18914, 18918, 18921, 18925, 18928, 18929, 18933, 18945, 18947, 18948, 18954, 18957, 18959, 18960, 18962, 18964, 18968, 18971, 18976, 18979, 18980, 18983, 18986, 18991, 18993, 18994, 18997, 18999, 19000, 19001, 19002, 19012, 19013, 19016, 19017, 19020, 19021, 19023, 19027, 19028, 19035, 19036, 19039, 19043, 19045, 19047, 19050, 19054, 19058, 19062, 19064, 19067, 19069, 19071, 19074, 19077, 19082, 19088, 19091, 19093, 19095, 19097, 19105, 19108, 19110, 19112, 19113, 19114, 19121, 19122, 19124, 19125, 19126, 19130, 19133, 19134, 19136, 19138, 19139, 19142, 19149, 19153, 19158, 19161, 19165, 19168, 19173, 19174, 19178, 19179, 19180, 19181, 19182, 19184, 19187, 19189, 19190, 19196, 19202, 19205, 19207, 19208, 19209, 19218, 19221, 19223, 19224, 19225, 19226, 19230, 19231, 19232, 19233, 19238, 19242, 19246, 19247, 19248, 19250, 19251, 19261, 19262, 19266, 19276, 19279, 19280, 19292, 19295, 19296, 19299, 19303, 19305, 19309, 19310, 19314, 19315, 19320, 19322, 19329, 19338, 19347, 19348, 19350, 19356, 19361, 19362, 19367, 19373, 19376, 19382, 19386, 19388, 19393, 19394, 19397, 19398, 19400, 19407, 19408, 19412, 19417, 19419, 19420, 19421, 19428, 19429, 19430, 19437, 19443, 19448, 19451, 19454, 19458, 19461, 19467, 19468, 19469, 19470, 19475, 19478, 19479, 19480, 19481, 19485, 19486, 19487, 19497, 19499, 19500, 19501, 19502, 19503, 19504, 19505, 19506, 19509, 19511, 19512, 19513, 19518, 19520, 19523, 19525, 19529, 19531, 19532, 19533, 19535, 19539, 19540, 19545, 19546, 19551, 19554, 19556, 19557, 19559, 19563, 19567, 19568, 19569, 19573, 19576, 19581, 19584, 19585, 19587, 19588, 19600, 19601, 19603, 19605, 19607, 19608, 19609, 19612, 19618, 19619, 19621, 19622, 19623, 19624, 19625, 19628, 19631, 19632, 19633, 19634, 19637, 19638, 19645, 19646, 19648, 19651, 19653, 19655, 19663, 19669, 19672, 19673, 19674, 19681, 19682, 19683, 19684, 19686, 19688, 19689, 19690, 19691, 19693, 19694, 19696, 19698, 19700, 19702, 19703, 19706, 19709, 19710, 19712, 19715, 19717, 19723, 19729, 19732, 19733, 19737, 19739, 19740, 19742, 19744, 19746, 19752, 19756, 19759, 19760, 19762, 19763, 19765, 19766, 19767, 19768, 19774, 19779, 19783, 19785, 19787, 19789, 19790, 19794, 19801, 19802, 19805, 19806, 19808, 19812, 19820, 19834, 19836, 19837, 19838, 19839, 19841, 19847, 19850, 19853, 19854, 19858, 19860, 19864, 19865, 19867, 19870, 19875, 19878, 19884, 19886, 19888, 19889, 19891, 19895, 19897, 19899, 19900, 19902, 19909, 19918, 19920, 19921, 19925, 19936, 19939, 19941, 19942, 19948, 19950, 19958, 19959, 19960, 19961, 19965, 19971, 19972, 19973, 19974, 19980, 19981, 19982, 19990, 19991, 19992, 19996, 19997, 19998, 19999, 20001, 20003, 20006, 20014, 20015, 20017, 20018, 20019, 20022, 20025, 20031, 20032, 20036, 20037, 20045, 20046, 20049, 20054, 20055, 20060, 20063, 20064, 20068, 20070, 20079, 20081, 20082, 20083, 20085, 20087, 20093, 20095, 20099, 20105, 20107, 20108, 20109, 20110, 20111, 20113, 20114, 20115, 20118, 20119, 20120, 20122, 20125, 20127, 20128, 20132, 20133, 20134, 20136, 20139, 20140, 20144, 20145, 20149, 20152, 20153, 20154, 20155, 20158, 20161, 20162, 20168, 20174, 20183, 20185, 20189, 20190, 20191, 20195, 20196, 20198, 20202, 20206, 20207, 20213, 20214, 20216, 20218, 20226, 20228, 20233, 20234, 20240, 20242, 20246, 20248, 20249, 20250, 20252, 20253, 20254, 20259, 20261, 20264, 20265, 20268, 20269, 20270, 20272, 20274, 20276, 20285, 20286, 20290, 20292, 20293, 20294, 20296, 20297, 20304, 20309, 20310, 20316, 20319, 20320, 20323, 20324, 20329, 20331, 20332, 20333, 20334, 20340, 20341, 20342, 20344, 20345, 20346, 20348, 20353, 20355, 20360, 20361, 20362, 20366, 20368, 20372, 20376, 20389, 20396, 20399, 20402, 20409, 20411, 20417, 20421, 20423, 20426, 20427, 20428, 20438, 20443, 20444, 20445, 20446, 20447, 20448, 20449, 20450, 20451, 20452, 20454, 20459, 20461, 20463, 20464, 20465, 20466, 20470, 20472, 20476, 20478, 20481, 20486, 20491, 20496, 20499, 20509, 20510, 20514, 20516, 20518, 20519, 20520, 20522, 20523, 20524, 20528, 20531, 20533, 20545, 20548, 20550, 20551, 20554, 20556, 20561, 20567, 20570, 20575, 20577, 20579, 20585, 20587, 20589, 20590, 20594, 20595, 20596, 20601, 20602, 20603, 20606, 20608, 20609, 20614, 20615, 20616, 20617, 20618, 20620, 20621, 20623, 20624, 20627, 20628, 20629, 20630, 20633, 20634, 20637, 20640, 20641, 20643, 20645, 20646, 20653, 20654, 20655, 20656, 20657, 20662, 20665, 20667, 20669, 20670, 20672, 20673, 20678, 20687, 20688, 20691, 20693, 20699, 20701, 20705, 20706, 20707, 20708, 20709, 20711, 20714, 20715, 20720, 20722, 20723, 20725, 20731, 20739, 20741, 20742, 20751, 20762, 20763, 20765, 20767, 20771, 20778, 20783, 20784, 20787, 20789, 20792, 20797, 20801, 20802, 20803, 20810, 20812, 20816, 20822, 20826, 20827, 20829, 20831, 20841, 20845, 20848, 20853, 20855, 20857, 20861, 20862, 20864, 20865, 20866, 20868, 20870, 20872, 20873, 20878, 20880, 20886, 20887, 20888, 20889, 20891, 20893, 20898, 20899, 20901, 20906, 20907, 20908, 20911, 20914, 20915, 20916, 20919, 20922, 20924, 20928, 20934, 20943, 20946, 20950, 20951, 20952, 20953, 20954, 20966, 20968, 20972, 20973, 20975, 20981, 20983, 20985, 20988, 20989, 20990, 20991, 20992, 20993, 20996, 20997, 20998, 20999, 21000, 21002, 21010, 21013, 21017, 21018, 21019, 21023, 21035, 21038, 21047, 21055, 21061, 21063, 21068, 21073, 21078, 21079, 21080, 21081, 21096, 21097, 21098, 21103, 21104, 21106, 21109, 21111, 21114, 21120, 21122, 21123, 21125, 21126, 21127, 21128, 21130, 21132, 21133, 21134, 21137, 21138, 21139, 21140, 21145, 21147, 21148, 21151, 21153, 21154, 21156, 21163, 21165, 21166, 21168, 21178, 21180, 21188, 21189, 21190, 21191, 21192, 21193, 21196, 21202, 21203, 21204, 21209, 21210, 21211, 21212, 21213, 21214, 21215, 21221, 21222, 21223, 21224, 21226, 21232, 21234, 21236, 21238, 21241, 21252, 21255, 21257, 21259, 21263, 21264, 21265, 21267, 21268, 21269, 21273, 21279, 21288, 21297, 21300, 21302, 21304, 21308, 21312, 21314, 21315, 21317, 21319, 21321, 21323, 21329, 21331, 21333, 21336, 21338, 21340, 21342, 21345, 21346, 21347, 21354, 21361, 21362, 21365, 21366, 21368, 21369, 21371, 21377, 21379, 21384, 21385, 21386, 21393, 21397, 21398, 21404, 21405, 21409, 21410, 21413, 21422, 21424, 21426, 21427, 21428, 21429, 21430, 21432, 21439, 21441, 21447, 21449, 21451, 21453, 21454, 21457, 21459, 21465, 21470, 21472, 21474, 21477, 21484, 21487, 21489, 21491, 21496, 21502, 21505, 21509, 21514, 21515, 21521, 21522, 21524, 21525, 21530, 21533, 21538, 21542, 21546, 21547, 21548, 21552, 21554, 21564, 21565, 21569, 21571, 21577, 21583, 21585, 21591, 21592, 21593, 21594, 21595, 21602, 21603, 21605, 21606, 21607, 21610, 21614, 21620, 21621, 21623, 21625, 21626, 21627, 21630, 21634, 21636, 21637, 21639, 21641, 21642, 21644, 21646, 21661, 21665, 21666, 21668, 21675, 21678, 21679, 21682, 21687, 21688, 21691, 21695, 21696, 21697, 21698, 21700, 21707, 21717, 21718, 21720, 21721, 21722, 21723, 21724, 21727, 21730, 21735, 21736, 21737, 21738, 21742, 21744, 21747, 21749, 21753, 21754, 21755, 21756, 21757, 21759, 21760, 21764, 21765, 21766, 21767, 21769, 21771, 21774, 21775, 21777, 21778, 21780, 21781, 21784, 21791, 21793, 21796, 21801, 21803, 21806, 21809, 21811, 21813, 21815, 21816, 21817, 21819, 21822, 21824, 21826, 21827, 21830, 21833, 21834, 21835, 21836, 21840, 21843, 21845, 21847, 21850, 21851, 21852, 21854, 21855, 21857, 21858, 21859, 21864, 21869, 21873, 21874, 21875, 21876, 21881, 21883, 21884, 21887, 21891, 21897, 21901, 21906, 21911, 21912, 21913, 21916, 21922, 21925, 21928, 21931, 21938, 21939, 21941, 21942, 21945, 21948, 21954, 21959, 21961, 21964, 21969, 21979, 21981, 21983, 21984, 21985, 21986, 21989, 21990, 21993, 21994, 21998, 21999, 22000, 22002, 22005, 22006, 22010, 22011, 22012, 22015, 22018, 22026, 22033, 22036, 22037, 22040, 22041, 22043, 22045, 22047, 22048, 22049, 22050, 22051, 22055, 22057, 22061, 22062, 22067, 22068, 22069, 22072, 22076, 22077, 22079, 22080, 22082, 22083, 22086, 22089, 22090, 22098, 22100, 22102, 22103, 22107, 22108, 22111, 22114, 22117, 22118, 22119, 22120, 22122, 22125, 22128, 22131, 22132, 22135, 22138, 22139, 22142, 22144, 22147, 22149, 22151, 22153, 22160, 22161, 22166, 22167, 22169, 22175, 22178, 22180, 22181, 22182, 22186, 22188, 22189, 22190, 22195, 22196, 22201, 22205, 22207, 22209, 22213, 22215, 22217, 22218, 22223, 22224, 22225, 22228, 22229, 22233, 22234, 22235, 22239, 22246, 22247, 22255, 22256, 22260, 22261, 22262, 22270, 22271, 22276, 22277, 22278, 22280, 22282, 22285, 22287, 22289, 22299, 22310, 22311, 22315, 22317, 22318, 22323, 22327, 22328, 22330, 22337, 22341, 22348, 22350, 22351, 22353, 22354, 22355, 22356, 22357, 22358, 22359, 22367, 22372, 22374, 22377, 22380, 22382, 22384, 22385, 22387, 22388, 22395, 22398, 22400, 22401, 22403, 22405, 22408, 22418, 22422, 22424, 22427, 22430, 22431, 22433, 22434, 22435, 22446, 22450, 22451, 22452, 22453, 22458, 22461, 22463, 22465, 22467, 22468, 22469, 22470, 22478, 22479, 22481, 22486, 22492, 22495, 22496, 22499, 22500, 22501, 22502, 22505, 22509, 22510, 22522, 22524, 22528, 22530, 22534, 22536, 22537, 22538, 22546, 22547, 22548, 22552, 22554, 22556, 22557, 22559, 22560, 22562, 22566, 22567, 22568, 22569, 22570, 22578, 22579, 22581, 22584, 22585, 22588, 22591, 22592, 22594, 22597, 22598, 22603, 22605, 22607, 22608, 22613, 22618, 22619, 22624, 22625, 22629, 22631, 22633, 22635, 22638, 22640, 22641, 22642, 22643, 22648, 22652, 22659, 22660, 22662, 22665, 22666, 22667, 22669, 22672, 22673, 22675, 22681, 22685, 22688, 22690, 22693, 22696, 22698, 22701, 22707, 22709, 22713, 22717, 22719, 22721, 22723, 22728, 22729, 22732, 22734, 22741, 22742, 22744, 22746, 22750, 22751, 22752, 22754, 22760, 22761, 22764, 22765, 22766, 22767, 22768, 22769, 22775, 22777, 22779, 22780, 22782, 22785, 22786, 22788, 22790, 22793, 22795, 22800, 22803, 22805, 22810, 22812, 22815, 22816, 22818, 22821, 22822, 22824, 22826, 22830, 22833, 22837, 22839, 22840, 22841, 22842, 22847, 22848, 22853, 22858, 22863, 22864, 22868, 22871, 22872, 22873, 22874, 22882, 22883, 22889, 22890, 22894, 22898, 22902, 22903, 22908, 22912, 22914, 22916, 22918, 22919, 22921, 22922, 22923, 22925, 22926, 22930, 22931, 22933, 22939, 22941, 22942, 22943, 22945, 22948, 22950, 22958, 22959, 22962, 22965, 22966, 22969, 22971, 22972, 22975, 22976, 22977, 22979, 22981, 22982, 22983, 22985, 22986, 22987, 22988, 22992, 22993, 22995, 22997, 23000, 23008, 23012, 23015, 23025, 23026, 23031, 23032, 23034, 23036, 23037, 23038, 23045, 23049, 23053, 23059, 23060, 23062, 23063, 23065, 23066, 23068, 23070, 23072, 23074, 23075, 23076, 23077, 23086, 23087, 23088, 23090, 23091, 23092, 23095, 23096, 23098, 23101, 23102, 23106, 23111, 23112, 23114, 23124, 23126, 23127, 23131, 23133, 23134, 23135, 23136, 23138, 23139, 23142, 23143, 23152, 23153, 23156, 23158, 23159, 23163, 23167, 23168, 23169, 23171, 23174, 23175, 23177, 23178, 23187, 23189, 23194, 23195, 23196, 23198, 23199, 23204, 23209, 23211, 23216, 23217, 23218, 23219, 23220, 23222, 23225, 23228, 23231, 23234, 23235, 23239, 23244, 23246, 23247, 23255, 23256, 23261, 23265, 23266, 23276, 23279, 23282, 23285, 23286, 23292, 23294, 23297, 23300, 23302, 23304, 23306, 23307, 23312, 23315, 23317, 23319, 23322, 23323, 23329, 23331, 23333, 23336, 23337, 23339, 23342, 23344, 23347, 23349, 23350, 23354, 23362, 23363, 23364, 23367, 23372, 23375, 23382, 23389, 23393, 23396, 23399, 23401, 23403, 23406, 23409, 23414, 23415, 23416, 23418, 23422, 23424, 23426, 23429, 23436, 23437, 23442, 23443, 23444, 23446, 23448, 23451, 23456, 23462, 23465, 23468, 23470, 23476, 23477, 23481, 23484, 23492, 23497, 23508, 23512, 23514, 23515, 23516, 23524, 23526, 23528, 23530, 23533, 23535, 23545, 23546, 23553, 23554, 23555, 23560, 23563, 23565, 23569, 23570, 23572, 23584, 23585, 23588, 23591, 23594, 23600, 23607, 23613, 23617, 23621, 23622, 23623, 23626, 23627, 23628, 23629, 23630, 23631, 23636, 23637, 23640, 23642, 23646, 23648, 23649, 23650, 23652, 23653, 23655, 23657, 23663, 23665, 23669, 23673, 23674, 23678, 23679, 23680, 23685, 23687, 23696, 23697, 23699, 23700, 23702, 23703, 23704, 23706, 23707, 23708, 23709, 23710, 23711, 23713, 23717, 23718, 23721, 23726, 23731, 23739, 23744, 23745, 23746, 23748, 23750, 23752, 23753, 23759, 23762, 23765, 23767, 23771, 23773, 23774, 23776, 23779, 23782, 23783, 23789, 23792, 23797, 23809, 23810, 23813, 23823, 23825, 23826, 23829, 23830, 23831, 23834, 23837, 23839, 23840, 23841, 23843, 23844, 23846, 23847, 23848, 23849, 23851, 23858, 23859, 23860, 23864, 23865, 23870, 23871, 23875, 23876, 23888, 23890, 23891, 23892, 23893, 23895, 23898, 23899, 23901, 23903, 23906, 23907, 23908, 23909, 23911, 23913, 23915, 23916, 23917, 23920, 23922, 23923, 23924, 23934, 23935, 23937, 23938, 23939, 23940, 23941, 23944, 23946, 23949, 23952, 23954, 23955, 23956, 23957, 23960, 23961, 23962, 23964, 23966, 23969, 23971, 23973, 23976, 23979, 23983, 23984, 23986, 23991, 23992, 23998, 24000], 'class': [3, 2, 5, 20, 13, 13, 9, 4, 5, 3, 16, 9, 2, 5, 17, 15, 19, 5, 15, 18, 17, 18, 12, 7, 16, 18, 8, 15, 16, 3, 16, 6, 10, 9, 4, 3, 6, 20, 13, 1, 5, 10, 3, 3, 1, 3, 18, 18, 10, 20, 17, 13, 7, 4, 3, 12, 16, 16, 8, 17, 15, 4, 17, 13, 9, 13, 20, 8, 4, 15, 14, 20, 16, 9, 12, 8, 5, 20, 18, 9, 17, 9, 17, 8, 11, 12, 19, 12, 5, 17, 17, 16, 20, 5, 11, 1, 10, 5, 13, 11, 5, 16, 17, 20, 14, 17, 3, 19, 16, 3, 17, 5, 2, 5, 5, 16, 12, 3, 11, 10, 9, 14, 20, 15, 9, 5, 16, 18, 17, 17, 20, 7, 12, 11, 2, 4, 2, 5, 11, 18, 8, 15, 2, 19, 9, 12, 20, 4, 13, 4, 10, 5, 16, 10, 14, 14, 10, 5, 7, 5, 16, 20, 12, 13, 19, 1, 13, 2, 19, 6, 3, 18, 12, 2, 12, 5, 10, 15, 20, 14, 1, 19, 9, 4, 14, 15, 10, 17, 4, 17, 6, 15, 8, 14, 18, 20, 13, 9, 18, 7, 17, 13, 5, 10, 20, 14, 4, 14, 20, 17, 19, 18, 5, 19, 18, 20, 20, 9, 9, 16, 15, 4, 5, 3, 5, 18, 17, 8, 17, 2, 19, 13, 11, 9, 6, 6, 16, 3, 7, 2, 13, 11, 12, 11, 19, 1, 16, 5, 7, 6, 3, 9, 5, 17, 10, 2, 1, 3, 12, 13, 18, 12, 17, 18, 19, 14, 14, 13, 11, 3, 13, 10, 20, 15, 1, 19, 13, 11, 8, 13, 6, 6, 2, 10, 10, 6, 20, 5, 18, 14, 15, 11, 10, 6, 15, 20, 20, 19, 11, 5, 20, 14, 17, 17, 15, 13, 14, 6, 12, 5, 11, 1, 2, 13, 12, 17, 10, 6, 18, 20, 3, 18, 3, 17, 13, 12, 2, 7, 13, 11, 11, 13, 2, 1, 10, 10, 20, 18, 18, 16, 6, 4, 7, 14, 15, 13, 10, 3, 16, 10, 10, 17, 1, 20, 4, 11, 6, 17, 15, 10, 6, 14, 5, 20, 18, 9, 10, 16, 6, 20, 1, 4, 6, 16, 8, 1, 18, 11, 11, 17, 10, 2, 6, 5, 16, 7, 15, 2, 13, 14, 17, 15, 5, 7, 10, 17, 3, 5, 14, 19, 4, 3, 5, 8, 10, 10, 20, 20, 3, 11, 20, 7, 18, 11, 4, 12, 5, 18, 7, 13, 11, 14, 20, 1, 13, 10, 7, 5, 18, 20, 18, 2, 10, 20, 2, 12, 7, 7, 5, 4, 17, 6, 10, 4, 8, 13, 13, 16, 16, 14, 18, 20, 4, 3, 14, 10, 2, 15, 17, 9, 2, 1, 6, 15, 20, 4, 15, 1, 14, 2, 5, 16, 12, 1, 7, 16, 6, 2, 7, 8, 1, 17, 10, 3, 17, 1, 11, 12, 1, 7, 7, 10, 3, 16, 5, 13, 4, 15, 14, 17, 6, 9, 14, 3, 18, 11, 18, 11, 3, 7, 19, 5, 12, 11, 17, 11, 13, 7, 8, 2, 14, 9, 10, 3, 6, 13, 3, 2, 20, 1, 8, 14, 1, 18, 9, 11, 2, 9, 20, 5, 13, 19, 8, 7, 10, 5, 19, 12, 18, 19, 9, 20, 9, 4, 11, 6, 15, 7, 9, 2, 6, 8, 9, 18, 19, 11, 16, 7, 13, 7, 5, 9, 11, 15, 20, 12, 13, 2, 13, 10, 14, 2, 7, 6, 8, 4, 19, 9, 15, 17, 4, 16, 5, 18, 17, 19, 19, 17, 18, 18, 5, 17, 6, 4, 6, 1, 3, 5, 9, 10, 12, 1, 14, 20, 17, 2, 11, 10, 20, 11, 2, 2, 19, 5, 10, 2, 16, 20, 19, 6, 5, 13, 18, 16, 7, 7, 7, 10, 10, 12, 15, 5, 7, 13, 5, 3, 1, 2, 18, 1, 20, 5, 17, 4, 17, 13, 17, 4, 2, 19, 18, 19, 7, 11, 5, 19, 16, 6, 5, 18, 15, 14, 2, 19, 3, 9, 13, 17, 9, 20, 2, 14, 15, 2, 4, 12, 11, 15, 20, 17, 15, 16, 7, 2, 10, 5, 17, 6, 10, 10, 18, 2, 11, 15, 9, 20, 1, 19, 12, 10, 2, 1, 15, 10, 7, 20, 11, 15, 13, 20, 20, 11, 12, 9, 3, 6, 6, 15, 15, 9, 5, 1, 2, 6, 15, 13, 4, 1, 3, 15, 13, 6, 16, 10, 5, 6, 16, 20, 14, 16, 10, 1, 19, 6, 12, 20, 12, 19, 8, 9, 9, 2, 20, 17, 17, 15, 8, 16, 20, 17, 6, 8, 5, 12, 5, 14, 16, 16, 4, 20, 5, 3, 11, 19, 18, 15, 12, 15, 10, 15, 19, 19, 10, 10, 4, 16, 16, 2, 4, 18, 2, 4, 8, 9, 7, 20, 5, 1, 13, 3, 7, 5, 9, 12, 7, 7, 20, 5, 16, 20, 9, 16, 6, 15, 16, 14, 10, 18, 5, 7, 4, 5, 11, 12, 17, 4, 10, 9, 20, 16, 19, 13, 11, 11, 16, 5, 13, 11, 14, 12, 13, 19, 1, 18, 4, 16, 14, 9, 13, 18, 10, 16, 13, 3, 19, 5, 11, 11, 18, 17, 2, 9, 12, 20, 14, 5, 7, 11, 4, 7, 17, 12, 5, 5, 7, 3, 10, 3, 9, 9, 1, 16, 20, 17, 3, 14, 19, 1, 2, 19, 9, 13, 3, 5, 2, 17, 15, 12, 13, 15, 3, 8, 5, 8, 4, 3, 14, 10, 5, 4, 7, 16, 17, 13, 20, 18, 12, 14, 13, 17, 18, 20, 1, 20, 13, 14, 12, 1, 7, 17, 6, 19, 1, 6, 6, 10, 4, 6, 20, 12, 15, 8, 17, 15, 5, 4, 12, 6, 11, 6, 1, 10, 16, 15, 12, 10, 10, 2, 8, 16, 9, 18, 19, 20, 20, 12, 17, 13, 14, 2, 1, 5, 11, 11, 19, 11, 4, 12, 20, 9, 5, 9, 3, 2, 3, 18, 8, 5, 8, 11, 14, 20, 5, 7, 12, 10, 1, 18, 12, 10, 16, 4, 6, 13, 11, 1, 2, 7, 6, 1, 2, 18, 2, 19, 19, 14, 13, 10, 16, 1, 14, 16, 15, 17, 20, 8, 7, 14, 6, 4, 20, 7, 5, 10, 19, 11, 6, 14, 19, 9, 9, 18, 18, 7, 7, 15, 20, 11, 11, 7, 20, 1, 11, 15, 9, 17, 5, 2, 20, 6, 12, 7, 10, 9, 1, 3, 5, 2, 6, 16, 19, 3, 16, 19, 17, 5, 17, 18, 19, 16, 4, 3, 18, 4, 6, 12, 6, 4, 3, 14, 5, 3, 17, 5, 5, 6, 13, 14, 12, 4, 1, 7, 6, 17, 7, 5, 3, 7, 3, 10, 19, 16, 9, 14, 20, 15, 19, 20, 10, 1, 19, 10, 16, 20, 5, 9, 17, 15, 11, 14, 17, 18, 18, 14, 4, 4, 9, 3, 1, 15, 2, 10, 5, 20, 17, 4, 2, 12, 2, 2, 5, 7, 3, 17, 5, 11, 15, 6, 20, 6, 14, 4, 15, 5, 8, 10, 11, 17, 14, 7, 17, 18, 12, 7, 17, 14, 5, 20, 4, 2, 9, 1, 5, 2, 5, 16, 9, 7, 20, 18, 4, 11, 19, 17, 6, 18, 7, 7, 1, 17, 16, 19, 14, 2, 5, 5, 8, 9, 12, 11, 13, 17, 17, 8, 18, 7, 1, 14, 4, 2, 6, 11, 20, 13, 7, 19, 20, 20, 8, 19, 3, 16, 16, 7, 10, 5, 13, 13, 13, 17, 6, 8, 9, 15, 8, 5, 5, 8, 9, 9, 11, 16, 19, 12, 5, 19, 16, 3, 1, 13, 5, 12, 19, 19, 14, 13, 10, 7, 19, 13, 12, 5, 17, 19, 2, 1, 15, 12, 10, 20, 19, 20, 20, 13, 3, 1, 4, 15, 5, 16, 5, 8, 10, 17, 20, 13, 17, 14, 7, 18, 7, 17, 14, 13, 5, 10, 1, 16, 17, 3, 20, 9, 7, 5, 18, 14, 3, 18, 2, 14, 4, 7, 5, 10, 20, 3, 19, 5, 16, 16, 15, 14, 1, 13, 7, 4, 5, 17, 7, 13, 13, 6, 11, 10, 16, 5, 14, 18, 11, 20, 7, 3, 6, 20, 19, 5, 10, 5, 11, 8, 6, 18, 20, 2, 2, 11, 1, 10, 7, 4, 18, 13, 17, 20, 3, 6, 9, 9, 20, 13, 3, 1, 9, 11, 7, 18, 18, 18, 13, 5, 20, 19, 6, 11, 3, 5, 20, 17, 12, 6, 18, 4, 16, 14, 19, 6, 19, 10, 5, 19, 5, 15, 17, 11, 9, 14, 7, 3, 5, 16, 12, 14, 12, 5, 7, 17, 19, 10, 4, 10, 15, 12, 13, 9, 16, 6, 10, 19, 15, 4, 5, 11, 10, 9, 10, 17, 3, 17, 17, 15, 3, 13, 18, 17, 4, 15, 10, 16, 11, 13, 7, 9, 7, 20, 12, 11, 12, 5, 19, 2, 20, 6, 11, 19, 19, 16, 9, 11, 10, 16, 11, 4, 2, 19, 8, 7, 11, 19, 1, 19, 16, 2, 13, 2, 4, 10, 9, 12, 15, 10, 3, 2, 1, 18, 1, 20, 8, 7, 14, 17, 17, 7, 5, 1, 20, 10, 7, 20, 6, 18, 7, 5, 12, 2, 9, 17, 17, 3, 17, 14, 15, 7, 16, 5, 9, 13, 10, 16, 2, 5, 9, 19, 7, 2, 14, 13, 13, 17, 14, 11, 9, 10, 12, 11, 9, 4, 20, 7, 10, 2, 10, 17, 7, 12, 4, 10, 9, 17, 18, 14, 1, 11, 2, 2, 11, 19, 18, 4, 16, 6, 18, 18, 20, 3, 18, 1, 11, 20, 17, 3, 8, 5, 13, 6, 9, 8, 3, 14, 12, 17, 3, 13, 5, 9, 5, 12, 6, 16, 2, 5, 7, 19, 7, 14, 20, 13, 17, 9, 1, 8, 5, 18, 5, 10, 20, 7, 15, 15, 11, 10, 9, 9, 17, 2, 3, 2, 20, 19, 2, 5, 10, 6, 7, 16, 16, 20, 5, 3, 3, 12, 13, 5, 17, 4, 3, 14, 10, 2, 13, 14, 19, 9, 1, 15, 18, 11, 19, 4, 16, 11, 17, 10, 5, 9, 5, 18, 8, 17, 8, 13, 15, 12, 9, 11, 9, 10, 9, 10, 15, 7, 15, 11, 9, 13, 7, 18, 9, 19, 8, 19, 14, 2, 7, 1, 11, 4, 1, 5, 12, 17, 1, 6, 20, 5, 13, 6, 18, 1, 7, 12, 20, 3, 17, 16, 5, 2, 2, 14, 14, 5, 20, 10, 5, 18, 9, 12, 16, 5, 6, 15, 16, 2, 5, 5, 4, 7, 5, 7, 15, 1, 10, 1, 13, 15, 3, 11, 13, 3, 19, 7, 3, 13, 16, 17, 4, 8, 11, 12, 14, 8, 20, 20, 20, 1, 15, 15, 14, 18, 17, 4, 2, 19, 19, 13, 2, 15, 13, 2, 18, 3, 14, 16, 8, 17, 17, 5, 13, 7, 7, 13, 18, 10, 20, 17, 9, 20, 20, 17, 9, 13, 6, 19, 1, 2, 20, 9, 4, 4, 11, 9, 11, 16, 7, 1, 1, 10, 3, 15, 15, 8, 10, 2, 18, 6, 15, 18, 5, 18, 13, 1, 10, 1, 3, 3, 5, 4, 19, 14, 8, 7, 3, 15, 19, 14, 16, 1, 5, 15, 12, 2, 15, 8, 5, 13, 18, 12, 17, 7, 17, 7, 10, 7, 9, 4, 5, 7, 12, 11, 6, 19, 10, 2, 17, 13, 5, 10, 19, 6, 3, 11, 9, 5, 13, 5, 18, 7, 11, 19, 6, 1, 16, 5, 9, 10, 19, 16, 5, 2, 14, 13, 4, 9, 20, 17, 11, 9, 15, 20, 4, 4, 10, 2, 2, 19, 17, 4, 18, 11, 7, 12, 13, 19, 6, 18, 19, 2, 17, 7, 8, 17, 18, 11, 5, 16, 3, 8, 2, 20, 17, 12, 18, 6, 10, 1, 19, 20, 7, 9, 8, 6, 12, 4, 9, 6, 2, 11, 5, 3, 17, 2, 6, 5, 5, 10, 11, 10, 1, 9, 12, 11, 15, 12, 19, 10, 13, 5, 3, 18, 17, 1, 16, 4, 7, 1, 2, 9, 6, 5, 16, 11, 13, 9, 3, 16, 9, 6, 5, 9, 18, 18, 5, 13, 18, 4, 15, 20, 12, 17, 14, 5, 8, 13, 6, 2, 3, 5, 1, 14, 20, 19, 17, 20, 20, 15, 1, 5, 14, 11, 16, 4, 1, 9, 11, 19, 5, 6, 15, 9, 18, 10, 9, 3, 12, 10, 12, 13, 8, 18, 10, 3, 16, 10, 4, 5, 7, 13, 9, 13, 10, 17, 9, 16, 6, 6, 11, 10, 11, 11, 10, 3, 20, 11, 20, 5, 7, 4, 11, 2, 12, 12, 2, 4, 16, 4, 20, 6, 15, 8, 18, 1, 17, 20, 13, 10, 14, 4, 3, 7, 11, 18, 20, 11, 6, 1, 7, 18, 19, 3, 1, 9, 3, 1, 12, 2, 10, 3, 5, 15, 1, 7, 10, 11, 6, 12, 18, 18, 3, 4, 12, 9, 15, 2, 8, 10, 7, 16, 7, 5, 3, 4, 11, 9, 8, 16, 6, 8, 19, 3, 2, 9, 18, 16, 11, 8, 10, 9, 4, 11, 14, 2, 2, 1, 9, 6, 2, 12, 2, 4, 11, 11, 2, 5, 13, 5, 16, 1, 13, 6, 1, 14, 4, 11, 12, 10, 7, 9, 9, 9, 4, 11, 9, 15, 17, 5, 12, 18, 5, 6, 14, 15, 18, 10, 17, 9, 5, 17, 12, 5, 7, 2, 11, 10, 10, 10, 1, 1, 13, 17, 11, 5, 13, 18, 17, 2, 13, 10, 2, 1, 6, 5, 5, 16, 10, 7, 17, 7, 12, 3, 18, 5, 19, 20, 4, 16, 16, 3, 7, 1, 12, 8, 3, 7, 1, 3, 12, 16, 9, 15, 2, 7, 9, 1, 7, 7, 5, 2, 11, 12, 19, 9, 6, 10, 18, 19, 14, 14, 6, 13, 4, 1, 18, 12, 5, 14, 10, 12, 12, 3, 20, 7, 20, 13, 5, 17, 9, 10, 20, 9, 10, 5, 11, 15, 16, 10, 20, 20, 13, 19, 3, 1, 17, 16, 6, 17, 12, 11, 19, 18, 5, 7, 3, 19, 19, 7, 12, 4, 11, 1, 1, 20, 13, 17, 5, 19, 16, 6, 13, 5, 13, 8, 15, 7, 14, 11, 1, 6, 3, 17, 20, 13, 5, 6, 5, 12, 15, 17, 2, 10, 7, 20, 3, 18, 9, 4, 3, 9, 17, 11, 5, 2, 17, 8, 8, 17, 3, 5, 15, 2, 5, 2, 12, 13, 6, 3, 6, 20, 19, 8, 2, 20, 12, 19, 17, 4, 5, 7, 2, 20, 20, 19, 7, 4, 19, 17, 9, 13, 20, 19, 3, 18, 5, 5, 7, 10, 11, 17, 20, 18, 15, 17, 6, 12, 19, 5, 1, 18, 13, 16, 17, 10, 17, 15, 5, 2, 3, 1, 13, 11, 12, 18, 14, 6, 19, 17, 3, 12, 2, 4, 8, 17, 6, 7, 5, 9, 19, 15, 11, 17, 18, 10, 20, 14, 10, 11, 17, 7, 12, 5, 9, 14, 11, 2, 6, 16, 13, 6, 9, 2, 12, 10, 8, 5, 3, 17, 1, 3, 10, 8, 8, 5, 7, 15, 18, 9, 12, 11, 4, 11, 20, 11, 2, 19, 9, 2, 6, 7, 4, 1, 12, 19, 17, 5, 18, 1, 9, 13, 16, 5, 16, 11, 11, 11, 15, 18, 11, 9, 18, 17, 2, 16, 1, 14, 4, 7, 9, 12, 9, 12, 19, 3, 19, 6, 5, 10, 3, 12, 13, 18, 15, 14, 14, 4, 4, 19, 18, 6, 17, 18, 3, 19, 12, 6, 12, 3, 19, 13, 16, 19, 8, 7, 5, 19, 12, 13, 2, 20, 13, 7, 6, 12, 5, 2, 6, 7, 16, 5, 20, 10, 17, 12, 8, 20, 4, 10, 2, 2, 17, 1, 20, 13, 17, 16, 18, 12, 1, 7, 10, 6, 18, 19, 13, 16, 6, 14, 9, 4, 12, 6, 6, 16, 9, 13, 18, 14, 7, 20, 3, 10, 8, 20, 2, 2, 20, 15, 12, 3, 8, 10, 9, 7, 14, 13, 4, 14, 11, 18, 20, 1, 18, 12, 12, 15, 7, 17, 7, 6, 20, 20, 3, 17, 9, 7, 17, 10, 1, 5, 13, 20, 11, 9, 6, 20, 5, 19, 11, 7, 5, 13, 6, 7, 16, 17, 12, 9, 2, 17, 3, 13, 13, 12, 9, 7, 7, 5, 9, 13, 12, 8, 17, 19, 5, 4, 11, 4, 6, 17, 11, 7, 14, 10, 5, 16, 9, 18, 9, 17, 16, 4, 4, 13, 5, 11, 2, 11, 11, 4, 17, 16, 1, 6, 17, 14, 4, 3, 19, 4, 20, 12, 7, 2, 10, 20, 4, 13, 13, 12, 15, 15, 10, 20, 14, 13, 12, 3, 3, 8, 12, 11, 4, 13, 5, 20, 12, 11, 7, 9, 19, 20, 8, 17, 6, 12, 19, 14, 4, 16, 17, 5, 11, 20, 14, 10, 6, 19, 6, 19, 18, 9, 16, 3, 7, 9, 7, 4, 20, 1, 11, 7, 5, 9, 11, 3, 7, 16, 10, 8, 17, 20, 7, 17, 17, 19, 17, 20, 20, 11, 16, 6, 2, 16, 16, 18, 10, 18, 7, 10, 11, 14, 12, 15, 10, 16, 11, 17, 12, 7, 11, 20, 5, 19, 9, 15, 6, 20, 2, 14, 16, 3, 8, 3, 13, 3, 9, 7, 8, 17, 18, 4, 12, 14, 12, 5, 11, 2, 16, 2, 19, 18, 16, 17, 7, 7, 7, 18, 1, 15, 6, 12, 18, 1, 4, 19, 18, 14, 13, 17, 7, 17, 12, 5, 10, 9, 1, 11, 4, 5, 12, 11, 19, 12, 3, 4, 8, 1, 8, 2, 20, 4, 16, 12, 15, 13, 1, 6, 8, 10, 10, 9, 2, 1, 10, 14, 2, 18, 10, 7, 10, 5, 11, 17, 18, 1, 3, 20, 10, 4, 1, 15, 3, 2, 11, 17, 13, 2, 12, 2, 5, 2, 7, 9, 7, 10, 15, 12, 11, 17, 19, 6, 12, 18, 10, 2, 8, 15, 4, 11, 12, 18, 11, 19, 2, 11, 12, 15, 14, 1, 12, 2, 9, 9, 7, 5, 9, 12, 11, 5, 10, 6, 9, 11, 5, 7, 18, 11, 19, 1, 13, 13, 16, 11, 16, 1, 11, 15, 16, 11, 16, 5, 16, 14, 16, 5, 12, 20, 14, 20, 19, 1, 17, 2, 1, 13, 14, 2, 9, 9, 2, 15, 2, 8, 3, 12, 11, 5, 3, 10, 10, 18, 19, 12, 14, 3, 6, 15, 11, 9, 13, 13, 10, 18, 18, 14, 4, 15, 6, 10, 3, 6, 16, 1, 5, 8, 16, 6, 19, 17, 9, 19, 5, 6, 10, 13, 6, 11, 17, 3, 6, 16, 16, 7, 6, 10, 14, 2, 5, 18, 1, 12, 9, 1, 8, 5, 7, 19, 5, 10, 18, 2, 11, 13, 2, 9, 5, 5, 15, 19, 16, 3, 14, 2, 4, 17, 16, 19, 1, 2, 9, 20, 15, 6, 4, 14, 10, 3, 2, 7, 6, 20, 15, 5, 19, 7, 3, 4, 16, 12, 3, 2, 14, 17, 16, 19, 15, 10, 4, 15, 6, 7, 9, 10, 18, 16, 9, 7, 20, 1, 7, 17, 16, 12, 17, 6, 11, 18, 13, 13, 20, 16, 20, 16, 20, 9, 14, 19, 18, 12, 18, 3, 10, 13, 6, 19, 19, 11, 4, 11, 19, 6, 19, 18, 15, 19, 7, 19, 3, 11, 5, 20, 13, 11, 19, 4, 12, 2, 11, 2, 16, 16, 5, 12, 2, 5, 5, 18, 7, 19, 1, 7, 1, 14, 10, 6, 3, 16, 10, 11, 11, 7, 1, 16, 10, 17, 2, 14, 6, 5, 9, 10, 13, 2, 15, 17, 2, 7, 5, 10, 5, 1, 5, 10, 19, 9, 2, 3, 17, 4, 16, 7, 20, 19, 13, 20, 11, 5, 12, 9, 17, 9, 13, 9, 4, 14, 18, 5, 5, 18, 11, 13, 13, 17, 9, 18, 17, 19, 16, 6, 2, 3, 2, 3, 2, 20, 3, 17, 10, 1, 7, 17, 15, 6, 15, 18, 3, 9, 2, 18, 18, 9, 20, 5, 7, 3, 15, 20, 1, 3, 16, 5, 7, 6, 4, 19, 17, 17, 14, 17, 3, 7, 11, 11, 2, 19, 3, 10, 20, 11, 17, 12, 19, 17, 3, 5, 15, 9, 15, 15, 2, 3, 16, 8, 4, 8, 5, 17, 2, 4, 13, 13, 18, 9, 4, 3, 4, 5, 6, 19, 2, 3, 15, 6, 5, 3, 13, 5, 4, 13, 19, 3, 4, 3, 17, 20, 2, 8, 16, 4, 5, 3, 16, 5, 6, 2, 15, 1, 8, 5, 20, 3, 16, 11, 11, 11, 9, 6, 16, 13, 20, 14, 16, 12, 10, 6, 20, 4, 10, 6, 5, 4, 17, 9, 8, 12, 6, 1, 16, 10, 20, 14, 6, 10, 20, 3, 18, 9, 17, 15, 6, 14, 1, 8, 18, 9, 5, 17, 12, 13, 3, 15, 16, 10, 6, 4, 20, 2, 18, 8, 20, 7, 7, 2, 17, 13, 9, 19, 2, 5, 16, 5, 18, 17, 19, 20, 2, 11, 18, 6, 3, 7, 9, 5, 6, 20, 1, 16, 15, 18, 20, 7, 10, 18, 5, 7, 12, 13, 1, 18, 11, 6, 10, 11, 16, 13, 18, 7, 16, 3, 20, 5, 3, 8, 13, 11, 3, 2, 20, 11, 2, 5, 10, 15, 5, 4, 8, 20, 10, 8, 3, 6, 20, 4, 12, 19, 4, 15, 12, 12, 15, 13, 5, 18, 17, 3, 15, 12, 15, 5, 10, 5, 8, 6, 6, 18, 5, 5, 1, 10, 1, 20, 7, 2, 3, 16, 13, 10, 18, 17, 6, 4, 8, 10, 11, 6, 16, 8, 18, 3, 3, 1, 13, 10, 9, 10, 13, 4, 2, 2, 13, 12, 1, 10, 17, 13, 2, 14, 7, 19, 7, 7, 8, 17, 18, 19, 5, 13, 10, 20, 5, 10, 1, 11, 13, 11, 9, 6, 11, 13, 5, 16, 15, 7, 17, 10, 13, 4, 20, 14, 1, 14, 15, 9, 13, 16, 7, 6, 2, 19, 11, 9, 1, 6, 14, 7, 7, 11, 12, 7, 12, 17, 1, 5, 12, 12, 3, 16, 20, 17, 2, 20, 1, 14, 10, 15, 19, 19, 14, 5, 9, 2, 16, 7, 18, 10, 18, 12, 3, 8, 20, 10, 11, 12, 4, 11, 4, 5, 5, 13, 3, 15, 14, 14, 17, 6, 10, 4, 9, 2, 20, 18, 10, 5, 4, 7, 17, 18, 11, 1, 3, 15, 6, 18, 11, 18, 19, 20, 13, 18, 5, 11, 1, 17, 3, 2, 2, 13, 12, 9, 20, 18, 1, 7, 7, 11, 19, 2, 5, 6, 7, 2, 1, 3, 19, 12, 20, 14, 20, 12, 18, 17, 6, 4, 12, 1, 6, 17, 2, 19, 12, 14, 14, 1, 7, 20, 6, 11, 11, 1, 14, 5, 8, 18, 1, 10, 12, 2, 18, 17, 17, 7, 18, 20, 10, 14, 3, 6, 5, 16, 15, 10, 15, 9, 16, 20, 12, 14, 1, 10, 9, 10, 14, 3, 17, 10, 20, 16, 10, 16, 9, 16, 5, 9, 1, 6, 16, 8, 20, 13, 13, 6, 11, 1, 14, 20, 17, 5, 17, 2, 4, 6, 11, 17, 5, 15, 17, 1, 6, 16, 18, 12, 4, 4, 9, 11, 3, 1, 12, 5, 1, 3, 13, 11, 1, 5, 11, 8, 1, 3, 2, 20, 19, 11, 7, 11, 9, 10, 12, 2, 9, 18, 5, 17, 17, 12, 12, 19, 17, 13, 6, 6, 18, 10, 12, 12, 8, 19, 5, 10, 2, 3, 9, 9, 7, 18, 15, 7, 9, 17, 16, 17, 12, 13, 11, 18, 5, 15, 13, 13, 12, 18, 20, 1, 18, 9, 14, 19, 6, 5, 2, 17, 11, 12, 12, 16, 7, 9, 3, 18, 2, 12, 17, 8, 3, 3, 14, 10, 2, 17, 10, 12, 14, 15, 18, 4, 12, 13, 18, 9, 20, 20, 9, 12, 6, 18, 9, 7, 12, 1, 7, 8, 10, 13, 18, 1, 13, 4, 11, 2, 7, 9, 9, 20, 18, 4, 18, 3, 12, 3, 1, 2, 17, 18, 7, 19, 3, 6, 15, 7, 11, 18, 15, 1, 5, 17, 10, 18, 12, 16, 12, 5, 5, 10, 5, 6, 11, 4, 15, 17, 3, 5, 8, 18, 5, 17, 3, 17, 5, 15, 15, 20, 10, 7, 16, 3, 14, 8, 14, 7, 6, 10, 9, 18, 15, 6, 19, 5, 6, 11, 14, 4, 15, 6, 10, 13, 3, 5, 12, 6, 2, 7, 9, 14, 3, 1, 7, 12, 20, 5, 20, 14, 8, 1, 19, 4, 13, 10, 18, 1, 18, 6, 19, 18, 20, 12, 8, 9, 3, 18, 10, 9, 14, 15, 13, 12, 6, 15, 10, 5, 11, 9, 9, 3, 7, 20, 13, 14, 15, 3, 6, 18, 5, 5, 3, 5, 10, 3, 20, 1, 20, 4, 13, 14, 20, 20, 11, 18, 9, 10, 19, 9, 9, 11, 13, 2, 5, 7, 16, 7, 20, 16, 11, 15, 7, 1, 18, 3, 11, 15, 17, 1, 6, 9, 5, 9, 4, 9, 2, 6, 18, 3, 13, 11, 7, 19, 2, 14, 17, 7, 12, 9, 2, 15, 12, 5, 20, 5, 12, 2, 19, 1, 17, 4, 9, 2, 15, 20, 7, 12, 9, 14, 4, 12, 14, 1, 16, 4, 3, 10, 5, 10, 19, 12, 1, 7, 11, 7, 11, 16, 17, 10, 11, 18, 16, 2, 10, 18, 5, 20, 10, 12, 17, 12, 20, 17, 5, 11, 20, 10, 3, 14, 2, 18, 5, 8, 4, 16, 13, 5, 8, 20, 9, 16, 17, 13, 18, 13, 13, 7, 9, 19, 10, 10, 3, 10, 20, 14, 11, 7, 9, 20, 10, 8, 1, 12, 12, 5, 1, 1, 12, 11, 3, 4, 6, 12, 3, 5, 13, 16, 2, 13, 16, 7, 11, 7, 4, 4, 1, 5, 13, 15, 13, 12, 6, 10, 2, 10, 12, 5, 5, 2, 6, 2, 15, 13, 20, 18, 9, 20, 9, 17, 1, 7, 4, 3, 19, 2, 10, 2, 6, 16, 9, 12, 1, 20, 16, 19, 18, 13, 12, 10, 5, 9, 11, 10, 2, 7, 1, 3, 1, 14, 11, 12, 4, 3, 2, 8, 14, 11, 10, 11, 5, 14, 11, 10, 6, 9, 11, 15, 6, 19, 3, 13, 16, 13, 15, 11, 19, 5, 20, 1, 14, 19, 16, 12, 8, 12, 1, 11, 17, 10, 13, 15, 20, 19, 5, 5, 9, 17, 5, 18, 16, 16, 9, 7, 4, 3, 5, 6, 9, 17, 8, 11, 13, 9, 20, 18, 2, 5, 5, 9, 17, 6, 13, 7, 9, 12, 2, 9, 7, 9, 9, 12, 4, 14, 6, 6, 5, 17, 5, 12, 12, 11, 7, 3, 3, 10, 8, 4, 15, 10, 7, 1, 19, 5, 12, 16, 12, 18, 10, 11, 14, 7, 11, 10, 9, 9, 9, 10, 3, 13, 3, 13, 14, 5, 4, 6, 17, 12, 8, 3, 1, 14, 13, 2, 12, 6, 20, 7, 4, 2, 1, 2, 1, 17, 10, 16, 4, 7, 10, 5, 10, 15, 3, 18, 5, 2, 9, 20, 5, 3, 18, 20, 7, 20, 3, 1, 10, 13, 11, 18, 9, 9, 20, 16, 8, 11, 12, 20, 2, 14, 11, 6, 9, 12, 17, 15, 14, 20, 11, 11, 3, 7, 7, 19, 10, 15, 3, 5, 14, 9, 16, 13, 2, 19, 13, 19, 7, 7, 17, 6, 5, 2, 18, 15, 4, 13, 16, 15, 2, 2, 17, 13, 4, 2, 8, 16, 6, 20, 4, 11, 20, 6, 11, 13, 5, 14, 10, 8, 13, 12, 17, 19, 12, 12, 3, 15, 10, 8, 7, 3, 2, 19, 5, 10, 8, 20, 3, 6, 5, 3, 3, 4, 13, 5, 12, 4, 6, 19, 9, 16, 18, 2, 18, 11, 12, 17, 9, 2, 11, 17, 18, 3, 16, 17, 9, 6, 5, 16, 1, 11, 14, 15, 7, 19, 10, 7, 13, 5, 13, 9, 4, 20, 8, 6, 11, 15, 19, 6, 10, 7, 20, 3, 4, 8, 18, 12, 1, 17, 19, 11, 14, 4, 1, 15, 5, 5, 13, 3, 11, 10, 10, 12, 4, 3, 9, 15, 1, 19, 13, 15, 7, 11, 12, 20, 20, 18, 16, 12, 8, 6, 12, 15, 20, 16, 17, 8, 11, 1, 2, 12, 6, 10, 3, 1, 11, 20, 20, 7, 13, 18, 14, 7, 20, 2, 15, 7, 18, 20, 5, 4, 5, 8, 11, 13, 11, 2, 8, 18, 7, 6, 5, 15, 4, 1, 5, 10, 1, 9, 3, 10, 10, 10, 13, 11, 18, 7, 1, 13, 12, 20, 1, 4, 18, 20, 6, 8, 6, 12, 15, 5, 18, 9, 1, 19, 15, 15, 17, 18, 16, 11, 6, 1, 13, 6, 19, 13, 5, 6, 15, 11, 16, 1, 19, 5, 16, 8, 7, 15, 20, 15, 5, 11, 15, 7, 20, 19, 2, 17, 20, 7, 3, 16, 17, 4, 6, 15, 10, 10, 10, 12, 16, 3, 12, 11, 12, 2, 13, 13, 1, 11, 6, 1, 7, 14, 14, 5, 1, 11, 11, 18, 10, 1, 1, 14, 5, 13, 13, 11, 4, 18, 18, 6, 2, 4, 4, 3, 1, 2, 10, 14, 11, 17, 16, 18, 5, 9, 14, 16, 12, 1, 5, 5, 10, 11, 18, 11, 5, 18, 11, 5, 2, 6, 9, 2, 9, 10, 20, 15, 14, 20, 4, 19, 2, 10, 19, 11, 19, 12, 3, 8, 12, 12, 1, 3, 6, 13, 13, 11, 13, 2, 10, 5, 5, 14, 7, 4, 8, 14, 2, 17, 6, 6, 17, 20, 10, 20, 2, 9, 12, 19, 7, 11, 6, 3, 5, 4, 7, 13, 20, 11, 3, 6, 13, 10, 3, 3, 2, 18, 3, 3, 17, 5, 9, 1, 18, 20, 2, 9, 14, 8, 13, 15, 17, 14, 5, 10, 2, 20, 11, 13, 5, 3, 5, 5, 20, 7, 7, 14, 1, 17, 7, 1, 13, 12, 12, 2, 10, 9, 9, 1, 20, 19, 11, 10, 4, 6, 17, 9, 12, 4, 5, 1]}\n"
     ]
    }
   ],
   "source": [
    "d = {'id' : [], 'class' : []}\n",
    "for i in range(len(test_labels_predicted)):\n",
    "    d['id'].append(int(test_ids[i]))\n",
    "    d['class'].append(int(test_labels_predicted[i]) + 1)\n",
    "\n",
    "print(d)"
   ]
  },
  {
   "cell_type": "code",
   "execution_count": 163,
   "metadata": {},
   "outputs": [],
   "source": [
    "# Write test_labels csv file\n",
    "\n",
    "dataframe = pd.DataFrame(data=d)\n",
    "dataframe.to_csv('test_labels.csv', index=False)"
   ]
  },
  {
   "cell_type": "code",
   "execution_count": null,
   "metadata": {},
   "outputs": [],
   "source": []
  }
 ],
 "metadata": {
  "kernelspec": {
   "display_name": "Python 3",
   "language": "python",
   "name": "python3"
  },
  "language_info": {
   "codemirror_mode": {
    "name": "ipython",
    "version": 3
   },
   "file_extension": ".py",
   "mimetype": "text/x-python",
   "name": "python",
   "nbconvert_exporter": "python",
   "pygments_lexer": "ipython3",
   "version": "3.7.1"
  }
 },
 "nbformat": 4,
 "nbformat_minor": 1
}
