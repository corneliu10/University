{
 "cells": [
  {
   "cell_type": "code",
   "execution_count": 5,
   "metadata": {},
   "outputs": [
    {
     "data": {
      "image/png": "[encoded data removed]",
      "text/plain": [
       "<Figure size 432x288 with 1 Axes>"
      ]
     },
     "metadata": {
      "needs_background": "light"
     },
     "output_type": "display_data"
    }
   ],
   "source": [
    "import matplotlib.pyplot as plt\n",
    "from sklearn import svm\n",
    "import numpy as np \n",
    "\n",
    "#training points and labels\n",
    "train_points = np.array([[1,3],[3,1],[2,-2],[4,4],[3,2]])\n",
    "train_labels = np.array([-1,-1,-1,1,1])\n",
    "\n",
    "#plot the points\n",
    "pos_train_labels = train_labels == 1\n",
    "neg_train_labels = train_labels == -1\n",
    "plt.plot(train_points[pos_train_labels,0],train_points[pos_train_labels,1],'og')\n",
    "plt.plot(train_points[neg_train_labels,0],train_points[neg_train_labels,1],'xr')\n",
    "plt.show()"
   ]
  },
  {
   "cell_type": "code",
   "execution_count": 32,
   "metadata": {},
   "outputs": [
    {
     "name": "stderr",
     "output_type": "stream",
     "text": [
      "C:\\Users\\corneliu.dumitru\\AppData\\Local\\Continuum\\anaconda3\\lib\\site-packages\\sklearn\\svm\\base.py:196: FutureWarning: The default value of gamma will change from 'auto' to 'scale' in version 0.22 to account better for unscaled features. Set gamma explicitly to 'auto' or 'scale' to avoid this warning.\n",
      "  \"avoid this warning.\", FutureWarning)\n"
     ]
    },
    {
     "ename": "AttributeError",
     "evalue": "coef_ is only available when using a linear kernel",
     "output_type": "error",
     "traceback": [
      "\u001b[1;31m---------------------------------------------------------------------------\u001b[0m",
      "\u001b[1;31mAttributeError\u001b[0m                            Traceback (most recent call last)",
      "\u001b[1;32m<ipython-input-32-75d95c42a44b>\u001b[0m in \u001b[0;36m<module>\u001b[1;34m\u001b[0m\n\u001b[0;32m      9\u001b[0m \u001b[1;31m#plot the decision boundary = a hyperplane in R^2 = a line given by ax + by + c = 0\u001b[0m\u001b[1;33m\u001b[0m\u001b[1;33m\u001b[0m\u001b[1;33m\u001b[0m\u001b[0m\n\u001b[0;32m     10\u001b[0m \u001b[1;31m#take the coefficients a,b,c from the model\u001b[0m\u001b[1;33m\u001b[0m\u001b[1;33m\u001b[0m\u001b[1;33m\u001b[0m\u001b[0m\n\u001b[1;32m---> 11\u001b[1;33m \u001b[0ma\u001b[0m \u001b[1;33m=\u001b[0m \u001b[0msvm_classifier\u001b[0m\u001b[1;33m.\u001b[0m\u001b[0mcoef_\u001b[0m\u001b[1;33m[\u001b[0m\u001b[1;36m0\u001b[0m\u001b[1;33m,\u001b[0m\u001b[1;36m0\u001b[0m\u001b[1;33m]\u001b[0m\u001b[1;33m\u001b[0m\u001b[1;33m\u001b[0m\u001b[0m\n\u001b[0m\u001b[0;32m     12\u001b[0m \u001b[0mb\u001b[0m \u001b[1;33m=\u001b[0m \u001b[0msvm_classifier\u001b[0m\u001b[1;33m.\u001b[0m\u001b[0mcoef_\u001b[0m\u001b[1;33m[\u001b[0m\u001b[1;36m0\u001b[0m\u001b[1;33m,\u001b[0m\u001b[1;36m1\u001b[0m\u001b[1;33m]\u001b[0m\u001b[1;33m\u001b[0m\u001b[1;33m\u001b[0m\u001b[0m\n\u001b[0;32m     13\u001b[0m \u001b[0mc\u001b[0m \u001b[1;33m=\u001b[0m \u001b[0msvm_classifier\u001b[0m\u001b[1;33m.\u001b[0m\u001b[0mintercept_\u001b[0m\u001b[1;33m[\u001b[0m\u001b[1;36m0\u001b[0m\u001b[1;33m]\u001b[0m\u001b[1;33m\u001b[0m\u001b[1;33m\u001b[0m\u001b[0m\n",
      "\u001b[1;32m~\\AppData\\Local\\Continuum\\anaconda3\\lib\\site-packages\\sklearn\\svm\\base.py\u001b[0m in \u001b[0;36mcoef_\u001b[1;34m(self)\u001b[0m\n\u001b[0;32m    482\u001b[0m     \u001b[1;32mdef\u001b[0m \u001b[0mcoef_\u001b[0m\u001b[1;33m(\u001b[0m\u001b[0mself\u001b[0m\u001b[1;33m)\u001b[0m\u001b[1;33m:\u001b[0m\u001b[1;33m\u001b[0m\u001b[1;33m\u001b[0m\u001b[0m\n\u001b[0;32m    483\u001b[0m         \u001b[1;32mif\u001b[0m \u001b[0mself\u001b[0m\u001b[1;33m.\u001b[0m\u001b[0mkernel\u001b[0m \u001b[1;33m!=\u001b[0m \u001b[1;34m'linear'\u001b[0m\u001b[1;33m:\u001b[0m\u001b[1;33m\u001b[0m\u001b[1;33m\u001b[0m\u001b[0m\n\u001b[1;32m--> 484\u001b[1;33m             raise AttributeError('coef_ is only available when using a '\n\u001b[0m\u001b[0;32m    485\u001b[0m                                  'linear kernel')\n\u001b[0;32m    486\u001b[0m \u001b[1;33m\u001b[0m\u001b[0m\n",
      "\u001b[1;31mAttributeError\u001b[0m: coef_ is only available when using a linear kernel"
     ]
    }
   ],
   "source": [
    "#define the svm classifier\n",
    "C = 1;\n",
    "svm_classifier = svm.SVC(C,\"linear\")\n",
    "rbf_classifier = svm.SVC(C,\"rbf\")\n",
    "\n",
    "#train the model\n",
    "svm_classifier.fit(train_points,train_labels)\n",
    "\n",
    "#plot the decision boundary = a hyperplane in R^2 = a line given by ax + by + c = 0\n",
    "#take the coefficients a,b,c from the model\n",
    "a = svm_classifier.coef_[0,0]\n",
    "b = svm_classifier.coef_[0,1]\n",
    "c = svm_classifier.intercept_[0]\n",
    "#build the line ax + by + c = 0\n",
    "x = np.linspace(0,5,100)\n",
    "y = -a/b*x -c/b\n",
    "\n",
    "#plot the points and the decision boundary\n",
    "#plot the points\n",
    "pos_train_labels = train_labels == 1\n",
    "neg_train_labels = train_labels == -1\n",
    "plt.plot(train_points[pos_train_labels,0],train_points[pos_train_labels,1],'og')\n",
    "plt.plot(train_points[neg_train_labels,0],train_points[neg_train_labels,1],'xr')\n",
    "#plot the decision boundary\n",
    "plt.plot(x,y,\"k\")\n",
    "\n"
   ]
  },
  {
   "cell_type": "code",
   "execution_count": 27,
   "metadata": {},
   "outputs": [
    {
     "name": "stdout",
     "output_type": "stream",
     "text": [
      "[0 1 2 3 4 5]\n",
      "[[ 1.  3.]\n",
      " [ 3.  1.]\n",
      " [ 2. -2.]\n",
      " [ 4.  4.]\n",
      " [ 3.  2.]\n",
      " [ 0.  0.]]\n",
      "[[-0.5  0.5]]\n",
      "[1.]\n"
     ]
    }
   ],
   "source": [
    "?svm_classifier\n",
    "print(svm_classifier.support_)\n",
    "print(svm_classifier.support_vectors_)\n",
    "print(svm_classifier.coef_)\n",
    "print(svm_classifier.intercept_)"
   ]
  },
  {
   "cell_type": "code",
   "execution_count": 28,
   "metadata": {},
   "outputs": [
    {
     "data": {
      "image/png": "[encoded data removed]",
      "text/plain": [
       "<Figure size 432x288 with 1 Axes>"
      ]
     },
     "metadata": {
      "needs_background": "light"
     },
     "output_type": "display_data"
    }
   ],
   "source": [
    "#plot the points\n",
    "pos_train_labels = train_labels == 1\n",
    "neg_train_labels = train_labels == -1\n",
    "plt.plot(train_points[pos_train_labels,0],train_points[pos_train_labels,1],'og')\n",
    "plt.plot(train_points[neg_train_labels,0],train_points[neg_train_labels,1],'xr')\n",
    "\n",
    "# plot the decision boundary and the margins\n",
    "ax = plt.gca()\n",
    "xlim = ax.get_xlim()\n",
    "ylim = ax.get_ylim()\n",
    "\n",
    "# create grid to evaluate model\n",
    "xx = np.linspace(xlim[0], xlim[1], 30)\n",
    "yy = np.linspace(ylim[0], ylim[1], 30)\n",
    "YY, XX = np.meshgrid(yy, xx)\n",
    "xy = np.vstack([XX.ravel(), YY.ravel()]).T\n",
    "#Z = svm_classifier.decision_function(xy).reshape(XX.shape)\n",
    "Z = rbf_classifier.decision_function(xy).reshape(XX.shape)\n",
    "\n",
    "\n",
    "# plot decision boundary and margins\n",
    "ax.contour(XX, YY, Z, colors='k', levels=[-1, 0, 1], alpha=0.5,\n",
    "           linestyles=['--', '-', '--'])\n",
    "# plot support vectors\n",
    "#ax.scatter(svm_classifier.support_vectors_[:, 0], svm_classifier.support_vectors_[:, 1], s=100,\n",
    "#           linewidth=1, facecolors='none', edgecolors='k')\n",
    "ax.scatter(rbf_classifier.support_vectors_[:, 0], rbf_classifier.support_vectors_[:, 1], s=100,\n",
    "           linewidth=1, facecolors='none', edgecolors='k')\n",
    "plt.show()\n"
   ]
  },
  {
   "cell_type": "code",
   "execution_count": 17,
   "metadata": {},
   "outputs": [],
   "source": [
    "#add the point [2,2.1] with label 1 to the initial training set and see what happens to the margin when you vary C\n",
    "train_points = np.array([[1,3],[3,1],[2,-2],[4,4],[3,2], [2, 2.2]])\n",
    "train_labels = np.array([-1,-1,-1,1,1,1])"
   ]
  },
  {
   "cell_type": "code",
   "execution_count": 31,
   "metadata": {},
   "outputs": [],
   "source": [
    "#add the point [0,0] with label 1 to the initial training set and see if you can classify the points. Try the RBF kernel\n",
    "train_points = np.array([[1,3],[3,1],[2,-2],[4,4],[3,2], [0, 0]])\n",
    "train_labels = np.array([-1,-1,-1,1,1,1])"
   ]
  }
 ],
 "metadata": {
  "kernelspec": {
   "display_name": "Python 3",
   "language": "python",
   "name": "python3"
  },
  "language_info": {
   "codemirror_mode": {
    "name": "ipython",
    "version": 3
   },
   "file_extension": ".py",
   "mimetype": "text/x-python",
   "name": "python",
   "nbconvert_exporter": "python",
   "pygments_lexer": "ipython3",
   "version": "3.7.1"
  }
 },
 "nbformat": 4,
 "nbformat_minor": 2
}
