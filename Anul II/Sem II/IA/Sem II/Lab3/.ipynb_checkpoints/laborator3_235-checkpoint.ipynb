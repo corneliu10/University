{
 "cells": [
  {
   "cell_type": "markdown",
   "metadata": {},
   "source": [
    "# Rezolvare laborator 3"
   ]
  },
  {
   "cell_type": "code",
   "execution_count": 1,
   "metadata": {},
   "outputs": [],
   "source": [
    "import numpy as np\n",
    "import matplotlib.pyplot as plt"
   ]
  },
  {
   "cell_type": "code",
   "execution_count": 2,
   "metadata": {},
   "outputs": [
    {
     "ename": "OSError",
     "evalue": "/Users/bogdan/Downloads/data/train_images.txt not found.",
     "output_type": "error",
     "traceback": [
      "\u001b[1;31m---------------------------------------------------------------------------\u001b[0m",
      "\u001b[1;31mOSError\u001b[0m                                   Traceback (most recent call last)",
      "\u001b[1;32m<ipython-input-2-14307732b0a0>\u001b[0m in \u001b[0;36m<module>\u001b[1;34m\u001b[0m\n\u001b[0;32m      1\u001b[0m \u001b[0mdataPath\u001b[0m \u001b[1;33m=\u001b[0m \u001b[1;34m\"/Users/bogdan/Downloads/data/\"\u001b[0m\u001b[1;33m\u001b[0m\u001b[1;33m\u001b[0m\u001b[0m\n\u001b[0;32m      2\u001b[0m \u001b[1;31m#load train images\u001b[0m\u001b[1;33m\u001b[0m\u001b[1;33m\u001b[0m\u001b[1;33m\u001b[0m\u001b[0m\n\u001b[1;32m----> 3\u001b[1;33m \u001b[0mtrain_images\u001b[0m \u001b[1;33m=\u001b[0m \u001b[0mnp\u001b[0m\u001b[1;33m.\u001b[0m\u001b[0mloadtxt\u001b[0m\u001b[1;33m(\u001b[0m\u001b[0mdataPath\u001b[0m \u001b[1;33m+\u001b[0m \u001b[1;34m\"train_images.txt\"\u001b[0m\u001b[1;33m)\u001b[0m\u001b[1;33m\u001b[0m\u001b[1;33m\u001b[0m\u001b[0m\n\u001b[0m\u001b[0;32m      4\u001b[0m \u001b[0mprint\u001b[0m\u001b[1;33m(\u001b[0m\u001b[0mtrain_images\u001b[0m\u001b[1;33m.\u001b[0m\u001b[0mshape\u001b[0m\u001b[1;33m)\u001b[0m\u001b[1;33m\u001b[0m\u001b[1;33m\u001b[0m\u001b[0m\n\u001b[0;32m      5\u001b[0m \u001b[0mprint\u001b[0m\u001b[1;33m(\u001b[0m\u001b[0mtrain_images\u001b[0m\u001b[1;33m.\u001b[0m\u001b[0mndim\u001b[0m\u001b[1;33m)\u001b[0m\u001b[1;33m\u001b[0m\u001b[1;33m\u001b[0m\u001b[0m\n",
      "\u001b[1;32m~\\AppData\\Local\\Continuum\\anaconda3\\lib\\site-packages\\numpy\\lib\\npyio.py\u001b[0m in \u001b[0;36mloadtxt\u001b[1;34m(fname, dtype, comments, delimiter, converters, skiprows, usecols, unpack, ndmin, encoding)\u001b[0m\n\u001b[0;32m    924\u001b[0m             \u001b[0mfname\u001b[0m \u001b[1;33m=\u001b[0m \u001b[0mstr\u001b[0m\u001b[1;33m(\u001b[0m\u001b[0mfname\u001b[0m\u001b[1;33m)\u001b[0m\u001b[1;33m\u001b[0m\u001b[1;33m\u001b[0m\u001b[0m\n\u001b[0;32m    925\u001b[0m         \u001b[1;32mif\u001b[0m \u001b[0m_is_string_like\u001b[0m\u001b[1;33m(\u001b[0m\u001b[0mfname\u001b[0m\u001b[1;33m)\u001b[0m\u001b[1;33m:\u001b[0m\u001b[1;33m\u001b[0m\u001b[1;33m\u001b[0m\u001b[0m\n\u001b[1;32m--> 926\u001b[1;33m             \u001b[0mfh\u001b[0m \u001b[1;33m=\u001b[0m \u001b[0mnp\u001b[0m\u001b[1;33m.\u001b[0m\u001b[0mlib\u001b[0m\u001b[1;33m.\u001b[0m\u001b[0m_datasource\u001b[0m\u001b[1;33m.\u001b[0m\u001b[0mopen\u001b[0m\u001b[1;33m(\u001b[0m\u001b[0mfname\u001b[0m\u001b[1;33m,\u001b[0m \u001b[1;34m'rt'\u001b[0m\u001b[1;33m,\u001b[0m \u001b[0mencoding\u001b[0m\u001b[1;33m=\u001b[0m\u001b[0mencoding\u001b[0m\u001b[1;33m)\u001b[0m\u001b[1;33m\u001b[0m\u001b[1;33m\u001b[0m\u001b[0m\n\u001b[0m\u001b[0;32m    927\u001b[0m             \u001b[0mfencoding\u001b[0m \u001b[1;33m=\u001b[0m \u001b[0mgetattr\u001b[0m\u001b[1;33m(\u001b[0m\u001b[0mfh\u001b[0m\u001b[1;33m,\u001b[0m \u001b[1;34m'encoding'\u001b[0m\u001b[1;33m,\u001b[0m \u001b[1;34m'latin1'\u001b[0m\u001b[1;33m)\u001b[0m\u001b[1;33m\u001b[0m\u001b[1;33m\u001b[0m\u001b[0m\n\u001b[0;32m    928\u001b[0m             \u001b[0mfh\u001b[0m \u001b[1;33m=\u001b[0m \u001b[0miter\u001b[0m\u001b[1;33m(\u001b[0m\u001b[0mfh\u001b[0m\u001b[1;33m)\u001b[0m\u001b[1;33m\u001b[0m\u001b[1;33m\u001b[0m\u001b[0m\n",
      "\u001b[1;32m~\\AppData\\Local\\Continuum\\anaconda3\\lib\\site-packages\\numpy\\lib\\_datasource.py\u001b[0m in \u001b[0;36mopen\u001b[1;34m(path, mode, destpath, encoding, newline)\u001b[0m\n\u001b[0;32m    260\u001b[0m \u001b[1;33m\u001b[0m\u001b[0m\n\u001b[0;32m    261\u001b[0m     \u001b[0mds\u001b[0m \u001b[1;33m=\u001b[0m \u001b[0mDataSource\u001b[0m\u001b[1;33m(\u001b[0m\u001b[0mdestpath\u001b[0m\u001b[1;33m)\u001b[0m\u001b[1;33m\u001b[0m\u001b[1;33m\u001b[0m\u001b[0m\n\u001b[1;32m--> 262\u001b[1;33m     \u001b[1;32mreturn\u001b[0m \u001b[0mds\u001b[0m\u001b[1;33m.\u001b[0m\u001b[0mopen\u001b[0m\u001b[1;33m(\u001b[0m\u001b[0mpath\u001b[0m\u001b[1;33m,\u001b[0m \u001b[0mmode\u001b[0m\u001b[1;33m,\u001b[0m \u001b[0mencoding\u001b[0m\u001b[1;33m=\u001b[0m\u001b[0mencoding\u001b[0m\u001b[1;33m,\u001b[0m \u001b[0mnewline\u001b[0m\u001b[1;33m=\u001b[0m\u001b[0mnewline\u001b[0m\u001b[1;33m)\u001b[0m\u001b[1;33m\u001b[0m\u001b[1;33m\u001b[0m\u001b[0m\n\u001b[0m\u001b[0;32m    263\u001b[0m \u001b[1;33m\u001b[0m\u001b[0m\n\u001b[0;32m    264\u001b[0m \u001b[1;33m\u001b[0m\u001b[0m\n",
      "\u001b[1;32m~\\AppData\\Local\\Continuum\\anaconda3\\lib\\site-packages\\numpy\\lib\\_datasource.py\u001b[0m in \u001b[0;36mopen\u001b[1;34m(self, path, mode, encoding, newline)\u001b[0m\n\u001b[0;32m    616\u001b[0m                                       encoding=encoding, newline=newline)\n\u001b[0;32m    617\u001b[0m         \u001b[1;32melse\u001b[0m\u001b[1;33m:\u001b[0m\u001b[1;33m\u001b[0m\u001b[1;33m\u001b[0m\u001b[0m\n\u001b[1;32m--> 618\u001b[1;33m             \u001b[1;32mraise\u001b[0m \u001b[0mIOError\u001b[0m\u001b[1;33m(\u001b[0m\u001b[1;34m\"%s not found.\"\u001b[0m \u001b[1;33m%\u001b[0m \u001b[0mpath\u001b[0m\u001b[1;33m)\u001b[0m\u001b[1;33m\u001b[0m\u001b[1;33m\u001b[0m\u001b[0m\n\u001b[0m\u001b[0;32m    619\u001b[0m \u001b[1;33m\u001b[0m\u001b[0m\n\u001b[0;32m    620\u001b[0m \u001b[1;33m\u001b[0m\u001b[0m\n",
      "\u001b[1;31mOSError\u001b[0m: /Users/bogdan/Downloads/data/train_images.txt not found."
     ]
    }
   ],
   "source": [
    "dataPath = \"C:\\Users\\corneliu.dumitru\\Desktop\\University\\Anul II\\IA\\Sem II\\data\"\n",
    "#load train images\n",
    "train_images = np.loadtxt(dataPath + \"train_images.txt\")\n",
    "print(train_images.shape)\n",
    "print(train_images.ndim)\n",
    "print(type(train_images[0,0]))\n",
    "print(train_images.size)\n",
    "print(train_images.nbytes)"
   ]
  },
  {
   "cell_type": "code",
   "execution_count": null,
   "metadata": {},
   "outputs": [],
   "source": [
    "#plot the first image\n",
    "image = train_images[0,:]\n",
    "image = np.reshape(image,(28,28))\n",
    "plt.imshow(image,cmap = \"gray\")\n",
    "plt.show()"
   ]
  },
  {
   "cell_type": "code",
   "execution_count": null,
   "metadata": {},
   "outputs": [],
   "source": [
    "#load training labels\n",
    "train_labels = np.loadtxt(dataPath + \"train_labels.txt\",'int8')\n",
    "print(train_labels.shape)\n",
    "print(type(train_labels[0]))\n",
    "print(train_labels.size)\n",
    "print(train_labels.nbytes)\n",
    "#show the label of the first training image\n",
    "print(train_labels[0])"
   ]
  },
  {
   "cell_type": "code",
   "execution_count": null,
   "metadata": {},
   "outputs": [],
   "source": [
    "#plot the first 100 training images with their labels in a 10 x 10 subplot\n",
    "nbImages = 10\n",
    "plt.figure(figsize=(5,5))\n",
    "for i in range(nbImages**2):\n",
    "    plt.subplot(nbImages,nbImages,i+1)\n",
    "    plt.axis('off')\n",
    "    plt.imshow(np.reshape(train_images[i,:],(28,28)),cmap = \"gray\")\n",
    "plt.show()\n",
    "labels_nbImages = train_labels[:nbImages**2]\n",
    "print(np.reshape(labels_nbImages,(nbImages,nbImages)))"
   ]
  },
  {
   "cell_type": "code",
   "execution_count": null,
   "metadata": {},
   "outputs": [],
   "source": [
    "class NaiveBayes:\n",
    "    \n",
    "    def __init__(self,num_bins,max_value=256):\n",
    "        self.num_bins = num_bins\n",
    "        self.bins = np.linspace(0,max_value,num_bins+1)\n",
    "        \n",
    "    def fit(self,train_images,train_labels):\n",
    "        #calculez probab p(X_pos = value_interval|C=c) - probabilitatea ca pixelul de pe pozitia pos\n",
    "        #sa ia o anumita valoare (intr-un interval) tinanc cont ca vine din clasa c\n",
    "        #stochez totul in matricea M de dimensiuni 10 x 784 x num_bins (numar clase x nr pixeli x numar intervale)\n",
    "        M = np.zeros((10,785,self.num_bins))\n",
    "        for c in range(10):\n",
    "            for pos in range(784):\n",
    "                indici = np.ravel(np.where(train_labels == c))\n",
    "                values = train_images[indici,pos]\n",
    "                h = np.histogram(values,self.bins)\n",
    "                M[c,pos,:] = h[0]/sum(h[0]) + 1e-10\n",
    "                \n",
    "        self.M = M\n",
    "        \n",
    "    def predict(self,test_images):\n",
    "        number_test_images = test_images.shape[0]\n",
    "        predictedClasses = np.zeros(number_test_images,'int8')\n",
    "        \n",
    "        #calculez probabilitatile a-priori p(C=c)\n",
    "        pC = np.zeros(10,'int8')\n",
    "        for label in train_labels:\n",
    "            pC[label] = pC[label] + 1\n",
    "            \n",
    "        for idx_test in range(number_test_images):\n",
    "            log_PC = np.log(pC)\n",
    "            for c in range(10):\n",
    "                for pos in range(784):\n",
    "                    value = test_images[idx_test,pos];\n",
    "                    bin = np.digitize(value,self.bins)-1\n",
    "                    log_PC[c] = log_PC[c] + np.log(self.M[c,pos,bin])\n",
    "            predictedClasses[idx_test] = log_PC.argmax()\n",
    "        \n",
    "        return predictedClasses"
   ]
  },
  {
   "cell_type": "code",
   "execution_count": null,
   "metadata": {},
   "outputs": [],
   "source": [
    "test_images = np.loadtxt(dataPath + \"test_images.txt\")\n",
    "test_labels = np.loadtxt(dataPath + \"test_labels.txt\",'int8')\n",
    "classifier = NaiveBayes(5,256)\n",
    "classifier.fit(train_images.copy(),train_labels)\n",
    "predicted_labels = classifier.predict(test_images.copy())\n",
    "#plot the first 100 test images with their predicted labels in a 10 x 10 subplot\n",
    "nbImages = 10\n",
    "plt.figure(figsize=(5,5))\n",
    "for i in range(nbImages**2):\n",
    "    plt.subplot(nbImages,nbImages,i+1)\n",
    "    plt.axis('off')\n",
    "    plt.imshow(np.reshape(test_images[i,:],(28,28)),cmap = \"gray\")\n",
    "plt.show()\n",
    "labels_nbImages = predicted_labels[:nbImages**2]\n",
    "print(np.reshape(labels_nbImages,(nbImages,nbImages)))"
   ]
  },
  {
   "cell_type": "code",
   "execution_count": null,
   "metadata": {},
   "outputs": [],
   "source": [
    "def compute_accuracy(true_labels,predicted_labels):\n",
    "    return (true_labels == predicted_labels).mean()\n",
    "\n",
    "print(\"Acuratetea calsificatorului Naive Bayes este: \", compute_accuracy(test_labels,predicted_labels))"
   ]
  },
  {
   "cell_type": "code",
   "execution_count": null,
   "metadata": {},
   "outputs": [],
   "source": [
    "#calculati matricea de confuzie C  de dimensiuni 10 x 10"
   ]
  },
  {
   "cell_type": "code",
   "execution_count": null,
   "metadata": {},
   "outputs": [],
   "source": [
    "#plotati toate imaginile de testare de cifre 4 clasificate drept 9 si invers, imagini de testare de cifre 9 clasificate 4\n"
   ]
  }
 ],
 "metadata": {
  "kernelspec": {
   "display_name": "Python 3",
   "language": "python",
   "name": "python3"
  },
  "language_info": {
   "codemirror_mode": {
    "name": "ipython",
    "version": 3
   },
   "file_extension": ".py",
   "mimetype": "text/x-python",
   "name": "python",
   "nbconvert_exporter": "python",
   "pygments_lexer": "ipython3",
   "version": "3.7.1"
  }
 },
 "nbformat": 4,
 "nbformat_minor": 2
}
